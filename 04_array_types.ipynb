{
 "cells": [
  {
   "cell_type": "markdown",
   "id": "1e77b7b7-0ae8-45e4-bcfe-e64a8126b1a5",
   "metadata": {},
   "source": [
    "# special type of arrays"
   ]
  },
  {
   "cell_type": "code",
   "execution_count": 12,
   "id": "9c43a5cb-a38a-481f-b3a6-0f769911298e",
   "metadata": {},
   "outputs": [
    {
     "name": "stdout",
     "output_type": "stream",
     "text": [
      "[0. 0. 0. 0.]\n",
      "\n",
      "[[0. 0. 0. 0.]\n",
      " [0. 0. 0. 0.]\n",
      " [0. 0. 0. 0.]]\n"
     ]
    }
   ],
   "source": [
    "# 1 -  zero 0's arrays\n",
    "\n",
    "import numpy as np\n",
    "ar_zero = np.zeros(4)    # zeros is a function to fill all the element in array with 0  and       4 is to give 4 element in 1 D array\n",
    "ar_zero1 = np.zeros((3,4))         # 3,4 means 2D array with 3 rows and 4 columns filled with zeros\n",
    "print(ar_zero)\n",
    "print()                             # to give one blank space\n",
    "print(ar_zero1)"
   ]
  },
  {
   "cell_type": "markdown",
   "id": "1121534c-439f-4f7b-bba1-ebd020c64b9d",
   "metadata": {},
   "source": [
    "# Ones"
   ]
  },
  {
   "cell_type": "code",
   "execution_count": 13,
   "id": "7bfe72d3-8cd4-4cf3-84ac-e50fd96966cf",
   "metadata": {},
   "outputs": [
    {
     "name": "stdout",
     "output_type": "stream",
     "text": [
      "[1. 1. 1. 1.]\n",
      "\n",
      "[[1. 1. 1. 1.]\n",
      " [1. 1. 1. 1.]\n",
      " [1. 1. 1. 1.]]\n"
     ]
    }
   ],
   "source": [
    "ar_one = np.ones(4)                  # one is a function to fill all the element in array with 1\n",
    "ar_one1 = np.ones((3,4))             # # 3,4 means 2D array with 3 rows and 4 columns filled with ones\n",
    "print(ar_one)\n",
    "print()\n",
    "print(ar_one1)\n"
   ]
  },
  {
   "cell_type": "markdown",
   "id": "79b5295d-956f-4db1-ab06-0b78b7e33558",
   "metadata": {},
   "source": [
    "# Empty array"
   ]
  },
  {
   "cell_type": "code",
   "execution_count": 14,
   "id": "3a166c62-905c-45b3-9c64-6a43e4a781c2",
   "metadata": {},
   "outputs": [
    {
     "name": "stdout",
     "output_type": "stream",
     "text": [
      "[1. 1. 1. 1.]\n"
     ]
    }
   ],
   "source": [
    "ar_en = np.empty(4)\n",
    "print(ar_en)                     # whatever previous memory was there in an array will be stored in empty array\n",
    "                                # as example just previously we have tried with ones array , the previous memory has 1 array element\n",
    "                               # so oen array element will stored in empty array"
   ]
  },
  {
   "cell_type": "markdown",
   "id": "c525c26b-72d9-46a5-9a27-537264ae62eb",
   "metadata": {},
   "source": [
    "# range of Elements"
   ]
  },
  {
   "cell_type": "code",
   "execution_count": 15,
   "id": "1ce1a3cb-1e3a-4848-ad86-194226b52aca",
   "metadata": {},
   "outputs": [
    {
     "name": "stdout",
     "output_type": "stream",
     "text": [
      "[0 1 2 3 4]\n"
     ]
    }
   ],
   "source": [
    "ar_rn = np.arange(5)      # arange function is same like range function from 0 to n-1\n",
    "print(ar_rn)"
   ]
  },
  {
   "cell_type": "markdown",
   "id": "5f49cab4-b251-46d3-a8a7-4c4a4c135d3f",
   "metadata": {},
   "source": [
    "# create diagonal element with 1"
   ]
  },
  {
   "cell_type": "code",
   "execution_count": 17,
   "id": "5767b052-7cde-460b-8480-7a043329122f",
   "metadata": {},
   "outputs": [
    {
     "name": "stdout",
     "output_type": "stream",
     "text": [
      "[[1. 0. 0.]\n",
      " [0. 1. 0.]\n",
      " [0. 0. 1.]]\n",
      "\n",
      "[[1. 0. 0. 0. 0.]\n",
      " [0. 1. 0. 0. 0.]\n",
      " [0. 0. 1. 0. 0.]]\n"
     ]
    }
   ],
   "source": [
    "ar_diag = np.eye(3)     # eye is a function for diagonal element filled with 1 nd here 3 means 3 by 3 array\n",
    "ar_diag1 = np.eye(3,5)       # here 3,5 means 3 rows 5 columns and diagonal element filled with 1\n",
    "print(ar_diag)\n",
    "print()\n",
    "print(ar_diag1)\n"
   ]
  },
  {
   "cell_type": "markdown",
   "id": "15d0b00b-8fb7-42eb-8c93-a238fbd5a4bb",
   "metadata": {},
   "source": [
    "# Create an array with values that are spaced linearly in a specified interval"
   ]
  },
  {
   "cell_type": "code",
   "execution_count": 18,
   "id": "3eb3a492-9c0e-4622-aa7f-d2affbcacdf5",
   "metadata": {},
   "outputs": [
    {
     "name": "stdout",
     "output_type": "stream",
     "text": [
      "[ 0.   2.5  5.   7.5 10. ]\n"
     ]
    }
   ],
   "source": [
    "ar_lin = np.linspace(0,10, num= 5)     # linspace is function to give same gap between all elements\n",
    "                                       # ( 0,10,num =5 ) means range will be from 0 to 10 but only 5 elemnts\n",
    "\n",
    "print(ar_lin)"
   ]
  },
  {
   "cell_type": "code",
   "execution_count": null,
   "id": "97144848-8e44-4d63-ac4c-394cd571488f",
   "metadata": {},
   "outputs": [],
   "source": []
  }
 ],
 "metadata": {
  "kernelspec": {
   "display_name": "Python 3 (ipykernel)",
   "language": "python",
   "name": "python3"
  },
  "language_info": {
   "codemirror_mode": {
    "name": "ipython",
    "version": 3
   },
   "file_extension": ".py",
   "mimetype": "text/x-python",
   "name": "python",
   "nbconvert_exporter": "python",
   "pygments_lexer": "ipython3",
   "version": "3.12.1"
  }
 },
 "nbformat": 4,
 "nbformat_minor": 5
}

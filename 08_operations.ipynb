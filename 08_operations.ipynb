{
 "cells": [
  {
   "cell_type": "markdown",
   "id": "15adc3ac-9f09-4f73-b12f-262736bcd4e7",
   "metadata": {},
   "source": [
    "# Numpy sirthmetic operations"
   ]
  },
  {
   "cell_type": "markdown",
   "id": "d09a04c6-40fa-4c1c-8d8a-cd7d60048f09",
   "metadata": {},
   "source": [
    "# add  np.add(a+b)"
   ]
  },
  {
   "cell_type": "code",
   "execution_count": 11,
   "id": "7f86b18e-b860-420e-8afa-0fd4ce0a4440",
   "metadata": {},
   "outputs": [
    {
     "name": "stdout",
     "output_type": "stream",
     "text": [
      "the var output is  [1 2 3 4]\n",
      "the var1 output is :  [4 5 6 7]\n"
     ]
    }
   ],
   "source": [
    "import numpy as np\n",
    "var = np.array([1,2,3,4])\n",
    "print(\"the var output is \", var)\n",
    "var1 = var + 3\n",
    "print(\"the var1 output is : \", var1)"
   ]
  },
  {
   "cell_type": "code",
   "execution_count": 28,
   "id": "5368e6f4-5b77-452c-a440-06c1d1c433e4",
   "metadata": {},
   "outputs": [
    {
     "name": "stdout",
     "output_type": "stream",
     "text": [
      "[ 2  4  6  8 10]\n"
     ]
    }
   ],
   "source": [
    "import numpy as np\n",
    "x = np.array([1,2,3,4,5])\n",
    "x1 = np.array([1,2,3,4,5])\n",
    "var = x+x1\n",
    "print(var)"
   ]
  },
  {
   "cell_type": "markdown",
   "id": "1416e881-d4a0-4187-8a83-04a7ce3b289f",
   "metadata": {},
   "source": [
    "# subtract"
   ]
  },
  {
   "cell_type": "code",
   "execution_count": 29,
   "id": "daf9fb70-9e61-4471-b0ad-e6eec3fffd4b",
   "metadata": {},
   "outputs": [
    {
     "name": "stdout",
     "output_type": "stream",
     "text": [
      "the var output is  [1 2 3 4]\n",
      "the var1 output is :  [-2 -1  0  1]\n"
     ]
    }
   ],
   "source": [
    "import numpy as np\n",
    "var = np.array([1,2,3,4])\n",
    "print(\"the var output is \", var)\n",
    "var1 = var - 3\n",
    "print(\"the var1 output is : \", var1)"
   ]
  },
  {
   "cell_type": "markdown",
   "id": "3e772a64-430a-44ea-8cee-f4d50b14556b",
   "metadata": {},
   "source": [
    "# Multiply"
   ]
  },
  {
   "cell_type": "code",
   "execution_count": 30,
   "id": "45ce18d4-10a3-4fc2-bec5-c7539cc68bda",
   "metadata": {},
   "outputs": [
    {
     "name": "stdout",
     "output_type": "stream",
     "text": [
      "the var output is  [1 2 3 4]\n",
      "the var1 output is :  [ 3  6  9 12]\n"
     ]
    }
   ],
   "source": [
    "import numpy as np\n",
    "var = np.array([1,2,3,4])\n",
    "print(\"the var output is \", var)\n",
    "var1 = var * 3\n",
    "print(\"the var1 output is : \", var1)"
   ]
  },
  {
   "cell_type": "markdown",
   "id": "2fb3e70f-81de-4c57-b397-b374f63ab152",
   "metadata": {},
   "source": [
    "# Divide"
   ]
  },
  {
   "cell_type": "code",
   "execution_count": 31,
   "id": "a6d8806c-64b3-4c7e-afeb-6678e59a540d",
   "metadata": {},
   "outputs": [
    {
     "name": "stdout",
     "output_type": "stream",
     "text": [
      "the var output is  [1 2 3 4]\n",
      "the var1 output is :  [0.33333333 0.66666667 1.         1.33333333]\n"
     ]
    }
   ],
   "source": [
    "import numpy as np\n",
    "var = np.array([1,2,3,4])\n",
    "print(\"the var output is \", var)\n",
    "var1 = var / 3\n",
    "print(\"the var1 output is : \", var1)"
   ]
  },
  {
   "cell_type": "markdown",
   "id": "61785833-d1d8-401b-8903-1bc39e4b7026",
   "metadata": {},
   "source": [
    "# mod  a%b"
   ]
  },
  {
   "cell_type": "code",
   "execution_count": 32,
   "id": "a609a014-af17-418c-8672-fac5acdaaec9",
   "metadata": {},
   "outputs": [
    {
     "name": "stdout",
     "output_type": "stream",
     "text": [
      "the var output is  [1 2 3 4]\n",
      "the var1 output is :  [1 2 0 1]\n"
     ]
    }
   ],
   "source": [
    "import numpy as np\n",
    "var = np.array([1,2,3,4])\n",
    "print(\"the var output is \", var)\n",
    "var1 = var % 3\n",
    "print(\"the var1 output is : \", var1)"
   ]
  },
  {
   "cell_type": "markdown",
   "id": "97cc1c3d-5794-4d76-b847-1b01117338f8",
   "metadata": {},
   "source": [
    "# power a**b"
   ]
  },
  {
   "cell_type": "code",
   "execution_count": 33,
   "id": "5736753a-9587-4158-956d-7976354f9559",
   "metadata": {},
   "outputs": [
    {
     "name": "stdout",
     "output_type": "stream",
     "text": [
      "the var output is  [1 2 3 4]\n",
      "the var1 output is :  [ 1  8 27 64]\n"
     ]
    }
   ],
   "source": [
    "import numpy as np\n",
    "var = np.array([1,2,3,4])\n",
    "print(\"the var output is \", var)\n",
    "var1 = var ** 3\n",
    "print(\"the var1 output is : \", var1)"
   ]
  },
  {
   "cell_type": "code",
   "execution_count": 35,
   "id": "3ac47beb-fbee-43ce-b6ac-d8e6e75a8c38",
   "metadata": {},
   "outputs": [
    {
     "name": "stdout",
     "output_type": "stream",
     "text": [
      "[   1    4   27  256 3125]\n"
     ]
    }
   ],
   "source": [
    "import numpy as np\n",
    "x = np.array([1,2,3,4,5])\n",
    "x1 = np.array([1,2,3,4,5])\n",
    "var = x**x1\n",
    "print(var)"
   ]
  },
  {
   "cell_type": "markdown",
   "id": "a81e3922-70a0-422e-91c9-cdb884cb9898",
   "metadata": {},
   "source": [
    "# reciprocal 1/a"
   ]
  },
  {
   "cell_type": "code",
   "execution_count": 50,
   "id": "485a10e4-a4ab-423b-9e5d-b0d899aa918c",
   "metadata": {},
   "outputs": [
    {
     "name": "stdout",
     "output_type": "stream",
     "text": [
      "the var output is  [1 2 3 4]\n",
      "the var1 output is :  [1 0 0 0]\n"
     ]
    }
   ],
   "source": [
    "import numpy as np\n",
    "var = np.array([1,2,3,4])\n",
    "print(\"the var output is \", var)\n",
    "var1 = np.reciprocal(var)\n",
    "print(\"the var1 output is : \", var1)"
   ]
  },
  {
   "cell_type": "markdown",
   "id": "c4f87f05-3476-4b36-b7db-82f43ec20203",
   "metadata": {},
   "source": [
    "# 2d array addition"
   ]
  },
  {
   "cell_type": "code",
   "execution_count": 41,
   "id": "681922ab-0b9f-48e2-bd2d-c09124805032",
   "metadata": {},
   "outputs": [
    {
     "name": "stdout",
     "output_type": "stream",
     "text": [
      "[[2 4 6 8]\n",
      " [2 4 6 8]]\n"
     ]
    }
   ],
   "source": [
    "import numpy as np \n",
    "x = np.array([[1,2,3,4],[1,2,3,4]])\n",
    "y = np.array([[1,2,3,4],[1,2,3,4]])\n",
    "z = np.add(x,y)\n",
    "print(z)\n"
   ]
  },
  {
   "cell_type": "code",
   "execution_count": 45,
   "id": "6126ef93-8413-4f16-8601-a944dd7973d3",
   "metadata": {},
   "outputs": [
    {
     "name": "stdout",
     "output_type": "stream",
     "text": [
      "[[ 1  4  9 16]\n",
      " [ 1  4  9 16]]\n"
     ]
    }
   ],
   "source": [
    "import numpy as np \n",
    "x = np.array([[1,2,3,4],[1,2,3,4]])\n",
    "y = np.array([[1,2,3,4],[1,2,3,4]])\n",
    "z = x*y\n",
    "print(z)\n"
   ]
  },
  {
   "cell_type": "code",
   "execution_count": 46,
   "id": "afbeef57-78a8-4a1a-b662-23d137f4182c",
   "metadata": {},
   "outputs": [
    {
     "name": "stdout",
     "output_type": "stream",
     "text": [
      "[[1. 1. 1. 1.]\n",
      " [1. 1. 1. 1.]]\n"
     ]
    }
   ],
   "source": [
    "#divide \n",
    "import numpy as np \n",
    "x = np.array([[1,2,3,4],[1,2,3,4]])\n",
    "y = np.array([[1,2,3,4],[1,2,3,4]])\n",
    "z = x/y\n",
    "print(z)"
   ]
  },
  {
   "cell_type": "code",
   "execution_count": 47,
   "id": "836f1f4b-9f58-4537-8b85-bcaa95b43b39",
   "metadata": {},
   "outputs": [
    {
     "name": "stdout",
     "output_type": "stream",
     "text": [
      "[[1. 1. 1. 1.]\n",
      " [1. 1. 1. 1.]]\n"
     ]
    }
   ],
   "source": [
    "#mod \n",
    "import numpy as np \n",
    "x = np.array([[1,2,3,4],[1,2,3,4]])\n",
    "y = np.array([[1,2,3,4],[1,2,3,4]])\n",
    "z = x/y\n",
    "print(z)"
   ]
  },
  {
   "cell_type": "code",
   "execution_count": 48,
   "id": "e252f971-d92f-41de-9169-d399fab22ee5",
   "metadata": {},
   "outputs": [
    {
     "name": "stdout",
     "output_type": "stream",
     "text": [
      "[[  1   4  27 256]\n",
      " [  1   4  27 256]]\n"
     ]
    }
   ],
   "source": [
    "#power \n",
    "\n",
    "import numpy as np \n",
    "x = np.array([[1,2,3,4],[1,2,3,4]])\n",
    "y = np.array([[1,2,3,4],[1,2,3,4]])\n",
    "z = x**y\n",
    "print(z)"
   ]
  },
  {
   "cell_type": "code",
   "execution_count": null,
   "id": "f7b1e4df-103e-47af-9275-8eee1ab2e324",
   "metadata": {},
   "outputs": [],
   "source": []
  }
 ],
 "metadata": {
  "kernelspec": {
   "display_name": "Python 3 (ipykernel)",
   "language": "python",
   "name": "python3"
  },
  "language_info": {
   "codemirror_mode": {
    "name": "ipython",
    "version": 3
   },
   "file_extension": ".py",
   "mimetype": "text/x-python",
   "name": "python",
   "nbconvert_exporter": "python",
   "pygments_lexer": "ipython3",
   "version": "3.12.1"
  }
 },
 "nbformat": 4,
 "nbformat_minor": 5
}

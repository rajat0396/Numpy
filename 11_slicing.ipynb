{
 "cells": [
  {
   "cell_type": "markdown",
   "id": "cb38c51a-d281-4a58-a2aa-f0ba622bffb1",
   "metadata": {},
   "source": [
    "# array slicing\n"
   ]
  },
  {
   "cell_type": "code",
   "execution_count": 2,
   "id": "3896cd6e-7a03-43c2-8a6d-262ba7dcc5b7",
   "metadata": {},
   "outputs": [
    {
     "name": "stdout",
     "output_type": "stream",
     "text": [
      "[1 2 3 4 5 6 7]\n",
      "\n",
      "slice from 2 to 5 :  [2 3 4 5]\n"
     ]
    }
   ],
   "source": [
    "# 1 d array slicing\n",
    "\n",
    "import numpy as np\n",
    "x = np.array([1,2,3,4,5,6,7])\n",
    "print(x)\n",
    "print()\n",
    "\n",
    "# we want to fecth from 2 to 5 \n",
    "\n",
    "print(\"slice from 2 to 5 : \" , x[1:5])      # here 1 is the indec no of 2 i,e starting point and 5 is the stop point at which no we want to stop"
   ]
  },
  {
   "cell_type": "code",
   "execution_count": 5,
   "id": "d038ec3a-47b1-49f2-92ec-182c1de74cb7",
   "metadata": {},
   "outputs": [
    {
     "name": "stdout",
     "output_type": "stream",
     "text": [
      "[1 2 3 4 5 6 7]\n",
      "\n",
      "slice from 2 to 5 :  [2 4]\n"
     ]
    }
   ],
   "source": [
    "import numpy as np\n",
    "x = np.array([1,2,3,4,5,6,7])\n",
    "print(x)\n",
    "print()\n",
    "\n",
    "# we want to fecth from 2 to 5 but jumpy by 1 no i.e we want to 2 and 4 to print\n",
    "\n",
    "print(\"slice from 2 to 5 : \" , x[1:5:2])  "
   ]
  },
  {
   "cell_type": "code",
   "execution_count": 18,
   "id": "d43c49b3-32cf-4350-921b-0d452ac7265e",
   "metadata": {},
   "outputs": [
    {
     "name": "stdout",
     "output_type": "stream",
     "text": [
      "[[9 8 7 6]\n",
      " [2 3 4 5]]\n",
      "\n",
      "[8]\n"
     ]
    }
   ],
   "source": [
    "# 2 d array\n",
    "\n",
    "import numpy as np\n",
    "x = np.array([[9,8,7,6],[2,3,4,5]])\n",
    "print(x)\n",
    "print()\n",
    "\n",
    "print(x[0,1:2])"
   ]
  },
  {
   "cell_type": "code",
   "execution_count": null,
   "id": "b253cbb0-a797-4928-a528-b969d5feefbd",
   "metadata": {},
   "outputs": [],
   "source": []
  }
 ],
 "metadata": {
  "kernelspec": {
   "display_name": "Python 3 (ipykernel)",
   "language": "python",
   "name": "python3"
  },
  "language_info": {
   "codemirror_mode": {
    "name": "ipython",
    "version": 3
   },
   "file_extension": ".py",
   "mimetype": "text/x-python",
   "name": "python",
   "nbconvert_exporter": "python",
   "pygments_lexer": "ipython3",
   "version": "3.12.1"
  }
 },
 "nbformat": 4,
 "nbformat_minor": 5
}

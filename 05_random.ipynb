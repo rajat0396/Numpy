{
 "cells": [
  {
   "cell_type": "markdown",
   "id": "8d8d3ff5-410a-4b18-be41-44200458e555",
   "metadata": {},
   "source": [
    "# Creating random valued array"
   ]
  },
  {
   "cell_type": "markdown",
   "id": "ca5201a6-2102-4194-91e8-cef21ed39070",
   "metadata": {},
   "source": [
    "# rand() - function used to genrate a random value between 0 and 1"
   ]
  },
  {
   "cell_type": "code",
   "execution_count": 2,
   "id": "77044ae1-e7f1-4922-a0bf-55a17e2dd08d",
   "metadata": {},
   "outputs": [
    {
     "name": "stdout",
     "output_type": "stream",
     "text": [
      "[0.35216635 0.79708177 0.84945978 0.47052846]\n",
      "\n",
      "[[0.14540998 0.93679257 0.17985315 0.4176601  0.67719071]\n",
      " [0.73003131 0.5112962  0.08228671 0.37591928 0.31860794]]\n"
     ]
    }
   ],
   "source": [
    "import numpy as np\n",
    "var = np.random.rand(4)                 # 4 is value od 1 d array\n",
    "var1 = np.random.rand(2,5)              # for 2 d array 2 rows and 5 columns\n",
    "print(var)\n",
    "print()\n",
    "print(var1)"
   ]
  },
  {
   "cell_type": "markdown",
   "id": "d9ef0517-d337-4702-a91a-065130df103b",
   "metadata": {},
   "source": [
    "# randn() - the function is used to generate random value close to zero can be positive and negative\n"
   ]
  },
  {
   "cell_type": "code",
   "execution_count": 4,
   "id": "abc4c0ed-e40c-491b-b4e4-c8cd1a1d8318",
   "metadata": {},
   "outputs": [
    {
     "name": "stdout",
     "output_type": "stream",
     "text": [
      "[ 1.14334896 -0.54103225  0.27797765 -0.3461832 ]\n"
     ]
    }
   ],
   "source": [
    "import numpy as np\n",
    "var=np.random.randn(4)\n",
    "print(var)"
   ]
  },
  {
   "cell_type": "markdown",
   "id": "f8db73d9-a5f2-43d2-bb89-b9f7d2612341",
   "metadata": {},
   "source": [
    "# ranf() - this also give specified value in between 0 and 1 but 0 is included and 1 is not included i.e [0.0 , 1.0)"
   ]
  },
  {
   "cell_type": "code",
   "execution_count": 5,
   "id": "15dd556a-a23e-4812-bbd8-de5d55983a76",
   "metadata": {},
   "outputs": [
    {
     "name": "stdout",
     "output_type": "stream",
     "text": [
      "[0.32570789 0.66882331 0.55120889 0.69163537]\n"
     ]
    }
   ],
   "source": [
    "import numpy as np\n",
    "var=np.random.ranf(4)\n",
    "print(var)"
   ]
  },
  {
   "cell_type": "markdown",
   "id": "876c8a37-142b-4182-9cd7-127c022e0bfe",
   "metadata": {},
   "source": [
    "# randint() - this return a random number between the given range"
   ]
  },
  {
   "cell_type": "code",
   "execution_count": 6,
   "id": "8aacb0ce-246b-48c2-b2d1-90b6fdb9cd3c",
   "metadata": {},
   "outputs": [
    {
     "name": "stdout",
     "output_type": "stream",
     "text": [
      "[17  5 14 12 10]\n"
     ]
    }
   ],
   "source": [
    "import numpy as np\n",
    "var=np.random.randint(5,20,5)                # range is 5 to 20 and total elements 5 should be there in range 5 to 20\n",
    "print(var)"
   ]
  },
  {
   "cell_type": "code",
   "execution_count": null,
   "id": "77faf0c0-7a80-4742-b676-a54fee36816b",
   "metadata": {},
   "outputs": [],
   "source": []
  }
 ],
 "metadata": {
  "kernelspec": {
   "display_name": "Python 3 (ipykernel)",
   "language": "python",
   "name": "python3"
  },
  "language_info": {
   "codemirror_mode": {
    "name": "ipython",
    "version": 3
   },
   "file_extension": ".py",
   "mimetype": "text/x-python",
   "name": "python",
   "nbconvert_exporter": "python",
   "pygments_lexer": "ipython3",
   "version": "3.12.1"
  }
 },
 "nbformat": 4,
 "nbformat_minor": 5
}

{
 "cells": [
  {
   "cell_type": "markdown",
   "id": "da3fbda6-42fa-42a2-8e65-f28be087744e",
   "metadata": {},
   "source": [
    "# Airthmetics functions"
   ]
  },
  {
   "cell_type": "code",
   "execution_count": 4,
   "id": "e80d8a60-a922-47f4-8a4f-2a707941158b",
   "metadata": {},
   "outputs": [
    {
     "name": "stdout",
     "output_type": "stream",
     "text": [
      "[4 2 1 3 5]\n"
     ]
    }
   ],
   "source": [
    "# shuffle\n",
    "\n",
    "import numpy as np\n",
    "x = np.array([1,2,3,4,5])\n",
    "np.random.shuffle(x)\n",
    "print(x)"
   ]
  },
  {
   "cell_type": "code",
   "execution_count": 19,
   "id": "724a0503-5df2-4c38-9f39-548358999a66",
   "metadata": {},
   "outputs": [
    {
     "name": "stdout",
     "output_type": "stream",
     "text": [
      "None\n",
      "[3 2 1 5 4]\n"
     ]
    }
   ],
   "source": [
    "# shuffle\n",
    "\n",
    "import numpy as np\n",
    "x = np.array([1,2,3,4,5])\n",
    "y=np.random.shuffle(x)\n",
    "print(y)      # output None because shuffle modifies the list directly and it return None\n",
    "print(x)"
   ]
  },
  {
   "cell_type": "code",
   "execution_count": 22,
   "id": "a98217f9-c56e-45d7-8257-ba176e6078c5",
   "metadata": {},
   "outputs": [
    {
     "name": "stdout",
     "output_type": "stream",
     "text": [
      "[3 4 2 1 5]\n"
     ]
    }
   ],
   "source": [
    "# shuffle\n",
    "\n",
    "import numpy as np\n",
    "x = np.array([1,2,3,4,5])\n",
    "y=np.random.shuffle(x)\n",
    "y=x                    # then it will work\n",
    "print(y)      # output None because shuffle modifies the list directly and it return None\n"
   ]
  },
  {
   "cell_type": "code",
   "execution_count": 9,
   "id": "91397888-4f96-4833-87a3-92ad5a625fd0",
   "metadata": {},
   "outputs": [
    {
     "name": "stdout",
     "output_type": "stream",
     "text": [
      "[[ 4  5  6  7]\n",
      " [ 0  1  2  3]\n",
      " [12 13 14 15]\n",
      " [ 8  9 10 11]]\n"
     ]
    }
   ],
   "source": [
    "import numpy as np\n",
    "x = np.arange(16).reshape((4,4))\n",
    "np.random.shuffle(x)\n",
    "print(x)"
   ]
  },
  {
   "cell_type": "code",
   "execution_count": 15,
   "id": "fdaa0a97-e49c-49b0-8da1-b116f98f5a68",
   "metadata": {},
   "outputs": [
    {
     "name": "stdout",
     "output_type": "stream",
     "text": [
      "(array([1, 2, 3, 4, 5, 6]), array([0, 1, 2, 3, 4, 5], dtype=int64), array([1, 4, 2, 2, 1, 1], dtype=int64))\n"
     ]
    }
   ],
   "source": [
    "#unique\n",
    "\n",
    "import numpy as np\n",
    "x= np.array([1,2,3,4,5,6,2,3,2,4,2])\n",
    "y=np.unique(x,return_index=True,return_counts=True)\n",
    "print(y)"
   ]
  },
  {
   "cell_type": "code",
   "execution_count": 26,
   "id": "1cfbcc46-f384-434e-b31e-b49bd343db18",
   "metadata": {},
   "outputs": [
    {
     "name": "stdout",
     "output_type": "stream",
     "text": [
      "[[1 2 3]\n",
      " [4 5 6]]\n"
     ]
    }
   ],
   "source": [
    "# resize = change the shape of an array\n",
    "\n",
    "import numpy as np\n",
    "x = np.array([1,2,3,4,5,6])\n",
    "y=np.resize(x,(2,3))                      # here (2,3) is shape in whihc we want o change 2 = rows and 3 is element in each row\n",
    "print(y)"
   ]
  },
  {
   "cell_type": "code",
   "execution_count": 28,
   "id": "52e14c47-43b1-4ac2-9786-0db6b13ecb1a",
   "metadata": {},
   "outputs": [
    {
     "name": "stdout",
     "output_type": "stream",
     "text": [
      "[[1 2 3]\n",
      " [4 5 6]]\n",
      "\n",
      "[1 2 3 4 5 6]\n"
     ]
    }
   ],
   "source": [
    "# Flatten - to convert 2D into 1 D array\n",
    "import numpy as np\n",
    "x = np.array([1,2,3,4,5,6])\n",
    "y=np.resize(x,(2,3))                      # here (2,3) is shape in whihc we want o change 2 = rows and 3 is element in each row\n",
    "print(y)\n",
    "\n",
    "print()\n",
    "\n",
    "z=y.flatten()\n",
    "print(z)"
   ]
  },
  {
   "cell_type": "code",
   "execution_count": 29,
   "id": "e9af4064-3866-4742-a669-58a69594a640",
   "metadata": {},
   "outputs": [
    {
     "name": "stdout",
     "output_type": "stream",
     "text": [
      "[[1 2 3]\n",
      " [4 5 6]]\n",
      "\n",
      "[1 4 2 5 3 6]\n"
     ]
    }
   ],
   "source": [
    "#if we want to give order\n",
    "\n",
    "import numpy as np\n",
    "x = np.array([1,2,3,4,5,6])\n",
    "y=np.resize(x,(2,3))                      # here (2,3) is shape in whihc we want o change 2 = rows and 3 is element in each row\n",
    "print(y)\n",
    "\n",
    "print()\n",
    "\n",
    "z=y.flatten(order='F')\n",
    "print(z)"
   ]
  },
  {
   "cell_type": "code",
   "execution_count": 36,
   "id": "5b51fa6d-90d6-4461-9778-6ed9c4441847",
   "metadata": {},
   "outputs": [
    {
     "name": "stdout",
     "output_type": "stream",
     "text": [
      "[[1 2 3]\n",
      " [4 5 6]]\n",
      "\n",
      "[1 4 2 5 3 6]\n",
      "[1 2 3 4 5 6]\n"
     ]
    }
   ],
   "source": [
    "import numpy as np\n",
    "x = np.array([1,2,3,4,5,6])\n",
    "y=np.resize(x,(2,3))                      # here (2,3) is shape in whihc we want o change 2 = rows and 3 is element in each row\n",
    "print(y)\n",
    "\n",
    "print()\n",
    "\n",
    "z=y.flatten(order='F')\n",
    "print(z)\n",
    "print(y.ravel())"
   ]
  },
  {
   "cell_type": "code",
   "execution_count": null,
   "id": "fb438ed9-c374-4e50-bd44-9c5a81a70e3f",
   "metadata": {},
   "outputs": [],
   "source": []
  }
 ],
 "metadata": {
  "kernelspec": {
   "display_name": "Python 3 (ipykernel)",
   "language": "python",
   "name": "python3"
  },
  "language_info": {
   "codemirror_mode": {
    "name": "ipython",
    "version": 3
   },
   "file_extension": ".py",
   "mimetype": "text/x-python",
   "name": "python",
   "nbconvert_exporter": "python",
   "pygments_lexer": "ipython3",
   "version": "3.12.1"
  }
 },
 "nbformat": 4,
 "nbformat_minor": 5
}

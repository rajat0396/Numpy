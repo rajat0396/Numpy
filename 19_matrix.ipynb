{
 "cells": [
  {
   "cell_type": "markdown",
   "id": "66082a6e-ac69-434c-a8bb-ab58c865938b",
   "metadata": {},
   "source": [
    "# Numpy matrix and Array Matrix "
   ]
  },
  {
   "cell_type": "code",
   "execution_count": 7,
   "id": "22086bea-6ba3-4c80-b055-f9cc8c6a33a6",
   "metadata": {},
   "outputs": [
    {
     "name": "stdout",
     "output_type": "stream",
     "text": [
      "[[1 2]\n",
      " [2 3]]\n",
      "\n",
      "<class 'numpy.matrix'>\n",
      "[[4 5]\n",
      " [6 7]]\n",
      "\n",
      "<class 'numpy.matrix'>\n",
      "\n",
      "[[16 19]\n",
      " [26 31]]\n",
      "(2, 2)\n"
     ]
    }
   ],
   "source": [
    "# Matrix Multiplication\n",
    "import numpy as np\n",
    "x= np.matrix([[1,2],[2,3]])\n",
    "y=np.matrix([[4,5],[6,7]])\n",
    "print(x)\n",
    "print()\n",
    "print(type(x))\n",
    "print(y)\n",
    "print()\n",
    "print(type(y))\n",
    "print()\n",
    "print(x*y)\n",
    "print((x*y).shape)"
   ]
  },
  {
   "cell_type": "code",
   "execution_count": 6,
   "id": "ad811f05-2280-4f71-a374-fb34ec75f2ae",
   "metadata": {},
   "outputs": [
    {
     "name": "stdout",
     "output_type": "stream",
     "text": [
      "[[1 2]\n",
      " [2 3]]\n",
      "\n",
      "<class 'numpy.ndarray'>\n",
      "[[4 5]\n",
      " [6 7]]\n",
      "\n",
      "<class 'numpy.ndarray'>\n",
      "\n",
      "[[ 4 10]\n",
      " [12 21]]\n",
      "(2, 2)\n"
     ]
    }
   ],
   "source": [
    "# array Multiplication\n",
    "import numpy as np\n",
    "x= np.array([[1,2],[2,3]])\n",
    "y=np.array([[4,5],[6,7]])\n",
    "print(x)\n",
    "print()\n",
    "print(type(x))\n",
    "print(y)\n",
    "print()\n",
    "print(type(y))\n",
    "print()\n",
    "print(x*y)\n",
    "print((x*y).shape)"
   ]
  },
  {
   "cell_type": "code",
   "execution_count": 9,
   "id": "7234ff7f-744a-4648-a02b-199197a51236",
   "metadata": {},
   "outputs": [
    {
     "name": "stdout",
     "output_type": "stream",
     "text": [
      "[[1 2]\n",
      " [2 3]]\n",
      "\n",
      "<class 'numpy.matrix'>\n",
      "[[4 5]\n",
      " [6 7]]\n",
      "\n",
      "<class 'numpy.matrix'>\n",
      "\n",
      "[[16 19]\n",
      " [26 31]]\n",
      "(2, 2)\n",
      "\n",
      "[[16 19]\n",
      " [26 31]]\n"
     ]
    }
   ],
   "source": [
    "# matrix Multiplication by dot function\n",
    "import numpy as np\n",
    "x= np.matrix([[1,2],[2,3]])\n",
    "y=np.matrix([[4,5],[6,7]])\n",
    "print(x)\n",
    "print()\n",
    "print(type(x))\n",
    "print(y)\n",
    "print()\n",
    "print(type(y))\n",
    "print()\n",
    "print(x*y)\n",
    "print((x*y).shape)\n",
    "print()\n",
    "print(x.dot(y))                                        # dot function"
   ]
  },
  {
   "cell_type": "code",
   "execution_count": null,
   "id": "58cbcc81-6651-49c6-9e30-be9f8f574fb3",
   "metadata": {},
   "outputs": [],
   "source": []
  }
 ],
 "metadata": {
  "kernelspec": {
   "display_name": "Python 3 (ipykernel)",
   "language": "python",
   "name": "python3"
  },
  "language_info": {
   "codemirror_mode": {
    "name": "ipython",
    "version": 3
   },
   "file_extension": ".py",
   "mimetype": "text/x-python",
   "name": "python",
   "nbconvert_exporter": "python",
   "pygments_lexer": "ipython3",
   "version": "3.12.1"
  }
 },
 "nbformat": 4,
 "nbformat_minor": 5
}

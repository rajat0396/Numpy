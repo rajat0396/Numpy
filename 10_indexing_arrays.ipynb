{
 "cells": [
  {
   "cell_type": "markdown",
   "id": "e67f46a4-70b1-4ebc-a78e-5ba18e363d0b",
   "metadata": {},
   "source": [
    "# indexing Numpy arrays"
   ]
  },
  {
   "cell_type": "code",
   "execution_count": 3,
   "id": "535979ed-02eb-4ba4-b5d2-00f92628a0d3",
   "metadata": {},
   "outputs": [
    {
     "name": "stdout",
     "output_type": "stream",
     "text": [
      "1\n",
      "2\n"
     ]
    }
   ],
   "source": [
    "# 1 D array\n",
    "\n",
    "import numpy as np\n",
    "x = np.array([1,2,3,4])\n",
    "\n",
    "print(x[0])\n",
    "print(x[1])"
   ]
  },
  {
   "cell_type": "code",
   "execution_count": 5,
   "id": "ab6ee882-1e33-4321-aa4e-a05c8c859ce4",
   "metadata": {},
   "outputs": [
    {
     "name": "stdout",
     "output_type": "stream",
     "text": [
      "[1 2 3 4]\n",
      "[1 2 3 4]\n",
      "\n",
      "2\n",
      "4\n"
     ]
    }
   ],
   "source": [
    "# 2 D array\n",
    "\n",
    "import numpy as np\n",
    "x = np.array([[1,2,3,4],[1,2,3,4]])\n",
    "\n",
    "print(x[0])\n",
    "print(x[1])\n",
    "\n",
    "print()\n",
    "\n",
    "print(x[0,1])\n",
    "print(x[1,3])\n"
   ]
  },
  {
   "cell_type": "code",
   "execution_count": 12,
   "id": "3d981af8-f293-4066-826d-8f74843ac928",
   "metadata": {},
   "outputs": [
    {
     "name": "stdout",
     "output_type": "stream",
     "text": [
      "[[[ 1  2  3  4]\n",
      "  [ 5  6  7  8]\n",
      "  [ 9 10 11 12]]]\n",
      "\n",
      "2\n",
      "8\n",
      "9\n"
     ]
    }
   ],
   "source": [
    "# 3d array \n",
    "import numpy as np\n",
    "x = np.array([[[1,2,3,4],[5,6,7,8],[9,10,11,12]]])\n",
    "print(x)\n",
    "\n",
    "print()\n",
    "\n",
    "print(x[0,0,1])\n",
    "print(x[0,1,3])\n",
    "print(x[0,2,0])"
   ]
  },
  {
   "cell_type": "code",
   "execution_count": 20,
   "id": "7c98959d-7ebc-4fac-bf5a-a4999f630c41",
   "metadata": {},
   "outputs": [
    {
     "name": "stdout",
     "output_type": "stream",
     "text": [
      "[ 1  2  3  4  5  6  7  8  9 10 11 12]\n",
      "\n",
      "[[[ 1]\n",
      "  [ 2]\n",
      "  [ 3]]\n",
      "\n",
      " [[ 4]\n",
      "  [ 5]\n",
      "  [ 6]]\n",
      "\n",
      " [[ 7]\n",
      "  [ 8]\n",
      "  [ 9]]\n",
      "\n",
      " [[10]\n",
      "  [11]\n",
      "  [12]]]\n",
      "3\n",
      "5\n",
      "9\n",
      "10\n"
     ]
    }
   ],
   "source": [
    "import numpy as np\n",
    "var = np.array([1,2,3,4,5,6,7,8,9,10,11,12])       \n",
    "print(var)                                                       # 1 D array\n",
    "\n",
    "print()                                                         # empty line print\n",
    "x=var.reshape(4,3,1)  \n",
    "print(x)\n",
    "\n",
    "# we want to fetch 3,5,9,10\n",
    "\n",
    "print(x[0,2,0])\n",
    "print(x[1,1,0])\n",
    "print(x[2,2,0])\n",
    "print(x[3,0,0])\n"
   ]
  },
  {
   "cell_type": "code",
   "execution_count": null,
   "id": "c5306cd9-02c3-4931-93ce-7ae48b2c8e9c",
   "metadata": {},
   "outputs": [],
   "source": []
  }
 ],
 "metadata": {
  "kernelspec": {
   "display_name": "Python 3 (ipykernel)",
   "language": "python",
   "name": "python3"
  },
  "language_info": {
   "codemirror_mode": {
    "name": "ipython",
    "version": 3
   },
   "file_extension": ".py",
   "mimetype": "text/x-python",
   "name": "python",
   "nbconvert_exporter": "python",
   "pygments_lexer": "ipython3",
   "version": "3.12.1"
  }
 },
 "nbformat": 4,
 "nbformat_minor": 5
}

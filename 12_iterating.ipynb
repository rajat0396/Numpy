{
 "cells": [
  {
   "cell_type": "markdown",
   "id": "407c273e-f6ed-421b-bd9c-512a578b35c8",
   "metadata": {},
   "source": [
    "# iterating Numpy arrays"
   ]
  },
  {
   "cell_type": "code",
   "execution_count": 2,
   "id": "5a99cb94-7a7f-442b-bb53-c86c2499af2e",
   "metadata": {},
   "outputs": [
    {
     "name": "stdout",
     "output_type": "stream",
     "text": [
      "\n",
      "[1 2 3 4]\n",
      "\n",
      "1\n",
      "2\n",
      "3\n",
      "4\n"
     ]
    }
   ],
   "source": [
    "# for 1 D array\n",
    "\n",
    "import numpy as np\n",
    "x = np.array([1,2,3,4])\n",
    "print()\n",
    "print(x)\n",
    "print()\n",
    "\n",
    "for i in x:\n",
    "    print(i)\n",
    "    "
   ]
  },
  {
   "cell_type": "code",
   "execution_count": 4,
   "id": "1df000a7-52a3-40b2-b0ed-68f51b2b27df",
   "metadata": {},
   "outputs": [
    {
     "name": "stdout",
     "output_type": "stream",
     "text": [
      "[[1 2 3 4]\n",
      " [5 6 7 8]]\n",
      "\n",
      "[1 2 3 4]\n",
      "[5 6 7 8]\n"
     ]
    }
   ],
   "source": [
    "# 2 D array\n",
    "\n",
    "import numpy as np\n",
    "x=np.array([[1,2,3,4],[5,6,7,8]])\n",
    "print(x)\n",
    "print()\n",
    "\n",
    "for i in x:\n",
    "    print(i)\n",
    "    "
   ]
  },
  {
   "cell_type": "code",
   "execution_count": 5,
   "id": "4c0b84d5-bf50-4ed8-abfe-87283e913f86",
   "metadata": {},
   "outputs": [
    {
     "name": "stdout",
     "output_type": "stream",
     "text": [
      "[[1 2 3 4]\n",
      " [5 6 7 8]]\n",
      "\n",
      "[1 2 3 4]\n",
      "[5 6 7 8]\n",
      "\n",
      "1\n",
      "2\n",
      "3\n",
      "4\n",
      "5\n",
      "6\n",
      "7\n",
      "8\n"
     ]
    }
   ],
   "source": [
    "# iteration inside iteration\n",
    "import numpy as np\n",
    "x=np.array([[1,2,3,4],[5,6,7,8]])\n",
    "print(x)\n",
    "print()\n",
    "\n",
    "for i in x:\n",
    "    print(i)\n",
    "\n",
    "print()\n",
    "\n",
    "for j in x:\n",
    "    for k in j:\n",
    "        print(k)"
   ]
  },
  {
   "cell_type": "code",
   "execution_count": 6,
   "id": "a03795d9-2997-48ad-9015-40f7c9172728",
   "metadata": {},
   "outputs": [
    {
     "name": "stdout",
     "output_type": "stream",
     "text": [
      "1\n",
      "2\n",
      "3\n",
      "8\n",
      "9\n",
      "0\n"
     ]
    }
   ],
   "source": [
    "# if we dont want to use for loop we can use function i.e nditer()\n",
    "\n",
    "import numpy as np\n",
    "x = np.array([[1,2,3],[8,9,0]])\n",
    "for i in np.nditer(x):\n",
    "    print(i)"
   ]
  },
  {
   "cell_type": "code",
   "execution_count": 8,
   "id": "385f56f4-caa5-4544-b3b8-09d075613a79",
   "metadata": {},
   "outputs": [
    {
     "name": "stdout",
     "output_type": "stream",
     "text": [
      "b'1'\n",
      "b'2'\n",
      "b'3'\n",
      "b'8'\n",
      "b'9'\n",
      "b'0'\n"
     ]
    }
   ],
   "source": [
    "# changing the data type with the help of buffere flag to give spaces and op_dtype to pass argumnet to change the data type\n",
    "import numpy as np\n",
    "x = np.array([[1,2,3],[8,9,0]])\n",
    "for i in np.nditer(x,flags=['buffered'],op_dtypes=['S']):\n",
    "    print(i)"
   ]
  },
  {
   "cell_type": "code",
   "execution_count": 13,
   "id": "629d00b6-3cb8-4bc5-a85f-17a5667096d2",
   "metadata": {},
   "outputs": [
    {
     "name": "stdout",
     "output_type": "stream",
     "text": [
      "1\n",
      "3\n",
      "5\n",
      "7\n"
     ]
    }
   ],
   "source": [
    "# iteration using step size , from array [1,2,3,4,5,6,7,8[ we want 1  skipping element\n",
    "\n",
    "import numpy as np\n",
    "x = np.array([[1,2,3,4],[5,6,7,8]])\n",
    "for i in np.nditer(x[:, ::2]):\n",
    "    print(i)"
   ]
  },
  {
   "cell_type": "code",
   "execution_count": 14,
   "id": "1a2c1015-1885-457d-af6f-76bff96aa310",
   "metadata": {},
   "outputs": [
    {
     "name": "stdout",
     "output_type": "stream",
     "text": [
      "(0,) 1\n",
      "(1,) 2\n",
      "(2,) 3\n",
      "(3,) 4\n",
      "(4,) 7\n",
      "(5,) 9\n"
     ]
    }
   ],
   "source": [
    "# enumeration function - matching sequence no of something one by one\n",
    "# using function ndenumerate() --- gives you the index value also\n",
    "\n",
    "import numpy as np\n",
    "x = np.array([1,2,3,4,7,9])\n",
    "for idx,i in np.ndenumerate(x):\n",
    "    print(idx,i)"
   ]
  },
  {
   "cell_type": "code",
   "execution_count": 15,
   "id": "72faec12-829b-4302-8c64-9cedf9fd1835",
   "metadata": {},
   "outputs": [
    {
     "name": "stdout",
     "output_type": "stream",
     "text": [
      "[[ 1  2  3  4  7  9]\n",
      " [45 67 78 99 11 99]]\n",
      "\n",
      "(0, 0) 1\n",
      "(0, 1) 2\n",
      "(0, 2) 3\n",
      "(0, 3) 4\n",
      "(0, 4) 7\n",
      "(0, 5) 9\n",
      "(1, 0) 45\n",
      "(1, 1) 67\n",
      "(1, 2) 78\n",
      "(1, 3) 99\n",
      "(1, 4) 11\n",
      "(1, 5) 99\n"
     ]
    }
   ],
   "source": [
    "# for 2 D array\n",
    "\n",
    "import numpy as np\n",
    "x = np.array([[1,2,3,4,7,9],[45,67,78,99,11,99]])\n",
    "print(x)\n",
    "print()\n",
    "for idx,i in np.ndenumerate(x):\n",
    "    print(idx,i)"
   ]
  },
  {
   "cell_type": "code",
   "execution_count": null,
   "id": "0ce5a390-9a81-47e3-a518-bc32def271e6",
   "metadata": {},
   "outputs": [],
   "source": []
  }
 ],
 "metadata": {
  "kernelspec": {
   "display_name": "Python 3 (ipykernel)",
   "language": "python",
   "name": "python3"
  },
  "language_info": {
   "codemirror_mode": {
    "name": "ipython",
    "version": 3
   },
   "file_extension": ".py",
   "mimetype": "text/x-python",
   "name": "python",
   "nbconvert_exporter": "python",
   "pygments_lexer": "ipython3",
   "version": "3.12.1"
  }
 },
 "nbformat": 4,
 "nbformat_minor": 5
}

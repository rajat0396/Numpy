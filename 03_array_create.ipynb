{
 "cells": [
  {
   "cell_type": "markdown",
   "id": "0af0c58e-230f-40d4-bfdd-5a3aa0983185",
   "metadata": {},
   "source": [
    "# Array and there dimension and more\n"
   ]
  },
  {
   "cell_type": "code",
   "execution_count": 2,
   "id": "29e2dad5-7a57-4d61-a42b-e5b60358f1cc",
   "metadata": {},
   "outputs": [
    {
     "name": "stdout",
     "output_type": "stream",
     "text": [
      "[1 2 3]\n"
     ]
    }
   ],
   "source": [
    "import numpy as np\n",
    "a = np.array([1,2,3])\n",
    "print(a)"
   ]
  },
  {
   "cell_type": "code",
   "execution_count": 5,
   "id": "0575f743-595a-423a-9d69-901da53c0f1c",
   "metadata": {},
   "outputs": [
    {
     "name": "stdout",
     "output_type": "stream",
     "text": [
      "[1 2 3 4]\n",
      "<class 'numpy.ndarray'>\n"
     ]
    }
   ],
   "source": [
    "# convert list into array\n",
    "\n",
    "import numpy as np\n",
    "x = [1,2,3,4]\n",
    "y= np.array(x)\n",
    "print(y)\n",
    "print(type(y))"
   ]
  },
  {
   "cell_type": "code",
   "execution_count": 4,
   "id": "70d7d924-7747-470e-ad2b-307ab4b51849",
   "metadata": {},
   "outputs": [
    {
     "data": {
      "text/plain": [
       "array([1, 2, 3, 4, 5])"
      ]
     },
     "execution_count": 4,
     "metadata": {},
     "output_type": "execute_result"
    }
   ],
   "source": [
    "#to check if its array or not\n",
    "\n",
    "import numpy as np\n",
    "x = [1,2,3,4,5]\n",
    "y=np.array(x)\n",
    "y"
   ]
  },
  {
   "cell_type": "code",
   "execution_count": 6,
   "id": "a9bf49bd-9061-4904-ab01-941b0d22ba1e",
   "metadata": {},
   "outputs": [
    {
     "name": "stdin",
     "output_type": "stream",
     "text": [
      "enter any :  rajat\n",
      "enter any :  rohit\n",
      "enter any :  vishal\n",
      "enter any :  ankit\n"
     ]
    },
    {
     "name": "stdout",
     "output_type": "stream",
     "text": [
      "['rajat' 'rohit' 'vishal' 'ankit']\n"
     ]
    }
   ],
   "source": [
    "# we have an empty list and apppend some values in it , and then convert that list into array\n",
    "\n",
    "l=[]\n",
    "\n",
    "for i in range(1,5):\n",
    "    a= input(\"enter any : \")\n",
    "    l.append(a)                       # appends into list l whatever input  we store in a variable\n",
    "\n",
    "print(np.array(l))            # printing array after converting list into array"
   ]
  },
  {
   "cell_type": "code",
   "execution_count": 9,
   "id": "3f77dc81-f507-4285-a1fc-33a8aa76e7ee",
   "metadata": {},
   "outputs": [
    {
     "name": "stdin",
     "output_type": "stream",
     "text": [
      "enter any :  1\n",
      "enter any :  2\n",
      "enter any :  34\n",
      "enter any :  56\n"
     ]
    },
    {
     "name": "stdout",
     "output_type": "stream",
     "text": [
      "[ 1  2 34 56]\n"
     ]
    }
   ],
   "source": [
    "# obove program has one mistake whatver input we give it takes a string , so just int also before input \n",
    "l=[]\n",
    "\n",
    "for i in range(1,5):\n",
    "    a= int(input(\"enter any : \"))           # converting string into int as input\n",
    "    l.append(a)                             # appends into list l whatever input  we store in a variable\n",
    "\n",
    "print(np.array(l))                           # printing array after converting list into array"
   ]
  },
  {
   "cell_type": "code",
   "execution_count": 10,
   "id": "b747b2a4-db20-481d-b7b7-e33306bea867",
   "metadata": {},
   "outputs": [
    {
     "name": "stdout",
     "output_type": "stream",
     "text": [
      "[1 2 3 4]\n",
      "<class 'numpy.ndarray'>\n",
      "1\n"
     ]
    }
   ],
   "source": [
    "# check dimendion of an array:\n",
    "\n",
    "import numpy as np\n",
    "x = [1,2,3,4]\n",
    "y= np.array(x)\n",
    "print(y)\n",
    "print(type(y))\n",
    "print(y.ndim)"
   ]
  },
  {
   "cell_type": "code",
   "execution_count": 14,
   "id": "96e48336-fc5c-4dde-b8b6-50de349e3f86",
   "metadata": {},
   "outputs": [
    {
     "name": "stdout",
     "output_type": "stream",
     "text": [
      "[[1 2 3 4]\n",
      " [5 6 7 8]]\n",
      "2\n"
     ]
    }
   ],
   "source": [
    "# creating 2 d array\n",
    "\n",
    "ar2= np.array([[1,2,3,4],[5,6,7,8]])       # ar2 is varibale  amd taking two list and both the list should have same no of data items\n",
    "print(ar2)\n",
    "print(ar2.ndim)"
   ]
  },
  {
   "cell_type": "code",
   "execution_count": 17,
   "id": "ca3dbdd7-9dc6-4e1a-b3ad-f7d641f213bd",
   "metadata": {},
   "outputs": [
    {
     "name": "stdout",
     "output_type": "stream",
     "text": [
      "[[[1 2 3 4]\n",
      "  [5 6 7 8]\n",
      "  [1 5 5 7]]]\n",
      "3\n"
     ]
    }
   ],
   "source": [
    "# creating 3 d array \n",
    "\n",
    "ar3= np.array([[[1,2,3,4],[5,6,7,8],[1,5,5,7]]])       # ar3 is varibale  amd taking two list and all three list should have same no of data items\n",
    "print(ar3)\n",
    "print(ar3.ndim)"
   ]
  },
  {
   "cell_type": "code",
   "execution_count": 18,
   "id": "1319c946-da73-468e-8e29-fed738092427",
   "metadata": {},
   "outputs": [
    {
     "name": "stdout",
     "output_type": "stream",
     "text": [
      "[[[[[[[[[[1 2 3 4]]]]]]]]]]\n",
      "10\n"
     ]
    }
   ],
   "source": [
    "# Multi dimension array\n",
    "\n",
    "arn = np.array([1,2,3,4], ndmin =10 )\n",
    "print(arn)\n",
    "print(arn.ndim)"
   ]
  }
 ],
 "metadata": {
  "kernelspec": {
   "display_name": "Python 3 (ipykernel)",
   "language": "python",
   "name": "python3"
  },
  "language_info": {
   "codemirror_mode": {
    "name": "ipython",
    "version": 3
   },
   "file_extension": ".py",
   "mimetype": "text/x-python",
   "name": "python",
   "nbconvert_exporter": "python",
   "pygments_lexer": "ipython3",
   "version": "3.12.1"
  }
 },
 "nbformat": 4,
 "nbformat_minor": 5
}

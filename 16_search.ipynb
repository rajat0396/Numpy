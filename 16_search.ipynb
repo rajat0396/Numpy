{
 "cells": [
  {
   "cell_type": "markdown",
   "id": "85bd8c95-4fa6-4ee7-af20-fe7f370718f8",
   "metadata": {},
   "source": [
    "# search , sort ,searched sorted and filter operation in numpy arrays"
   ]
  },
  {
   "cell_type": "code",
   "execution_count": 1,
   "id": "8cc7f7dd-5847-4a9a-b6f2-5ec67459d645",
   "metadata": {},
   "outputs": [
    {
     "name": "stdout",
     "output_type": "stream",
     "text": [
      "(array([3, 6, 9], dtype=int64),)\n"
     ]
    }
   ],
   "source": [
    "# search  user where() method\n",
    "# find the index value where 4 is there\n",
    "import numpy as np\n",
    "x = np.array([1,2,3,4,5,6,4,5,6,4])\n",
    "y = np.where(x==4)\n",
    "print(y)"
   ]
  },
  {
   "cell_type": "code",
   "execution_count": 2,
   "id": "08638dd1-eb41-4a06-a9ae-07e0b17f4345",
   "metadata": {},
   "outputs": [
    {
     "name": "stdout",
     "output_type": "stream",
     "text": [
      "(array([1, 3, 5, 7, 9], dtype=int64),)\n"
     ]
    }
   ],
   "source": [
    "# where th values are odd\n",
    "import numpy as np\n",
    "x = np.array([1,2,3,4,5,6,7,8,9,10])\n",
    "y = np.where(x%2 == 0)\n",
    "print(y)\n"
   ]
  },
  {
   "cell_type": "code",
   "execution_count": 3,
   "id": "5d72f26c-5090-4035-8dd7-a7147cafb874",
   "metadata": {},
   "outputs": [
    {
     "name": "stdout",
     "output_type": "stream",
     "text": [
      "(array([0, 2, 4, 6, 8], dtype=int64),)\n"
     ]
    }
   ],
   "source": [
    "# where th values are even\n",
    "import numpy as np\n",
    "x = np.array([1,2,3,4,5,6,7,8,9,10])\n",
    "y = np.where(x%2 == 1)\n",
    "print(y)"
   ]
  },
  {
   "cell_type": "markdown",
   "id": "103bc41d-21b5-4d0e-8b89-d0fb3a7e02bc",
   "metadata": {},
   "source": [
    "# Search sorted  - method searchsorted()\n",
    "# If we want to insert the value in an array, and then array should be in sorted form , then it return the index value where we can place the element"
   ]
  },
  {
   "cell_type": "code",
   "execution_count": 6,
   "id": "10f51ce8-9f6a-4b40-aa08-e9fd90d8cf85",
   "metadata": {},
   "outputs": [
    {
     "name": "stdout",
     "output_type": "stream",
     "text": [
      "1\n"
     ]
    }
   ],
   "source": [
    "# find th index value where 7 can be inserted\n",
    "\n",
    "import numpy as np\n",
    "x = np.array([6,7,8,9])\n",
    "y = np.searchsorted(x,7)\n",
    "print(y)"
   ]
  },
  {
   "cell_type": "markdown",
   "id": "ac7f0836-2134-49c8-95e9-4c3c3468d044",
   "metadata": {},
   "source": [
    "# search from right side by default we search from left side --- for right side #### side='right' "
   ]
  },
  {
   "cell_type": "code",
   "execution_count": 7,
   "id": "0c127479-c5e7-476c-a6ce-205801f79c5f",
   "metadata": {},
   "outputs": [
    {
     "name": "stdout",
     "output_type": "stream",
     "text": [
      "2\n"
     ]
    }
   ],
   "source": [
    "import numpy as np\n",
    "x=np.array([6,7,8,9])\n",
    "y=np.searchsorted(x,7,side='right')\n",
    "print(y)"
   ]
  },
  {
   "cell_type": "code",
   "execution_count": 10,
   "id": "734a0cb3-9557-4d2b-bb05-c99c6d858cb4",
   "metadata": {},
   "outputs": [
    {
     "name": "stdout",
     "output_type": "stream",
     "text": [
      "[2 2]\n"
     ]
    }
   ],
   "source": [
    "# Multiple values\n",
    "\n",
    "# find the index value where 2 ,4,and 6 should be inserted\n",
    "\n",
    "import numpy as np\n",
    "x=np.array([1,3,8,7])\n",
    "y=np.searchsorted(x,[6,7])\n",
    "print(y)"
   ]
  },
  {
   "cell_type": "markdown",
   "id": "f2dfba8a-bf02-4297-98c6-70f41f919217",
   "metadata": {},
   "source": [
    "# sort-- putting elements in a sequence no-- by sort() function\n"
   ]
  },
  {
   "cell_type": "code",
   "execution_count": 11,
   "id": "e38855df-2843-4498-b30c-f60e4b933b1b",
   "metadata": {},
   "outputs": [
    {
     "name": "stdout",
     "output_type": "stream",
     "text": [
      "[1 2 3 6]\n"
     ]
    }
   ],
   "source": [
    "# sort an element\n",
    "\n",
    "import numpy as np\n",
    "x=np.array([3,2,6,1])\n",
    "y=np.sort(x)\n",
    "print(y)"
   ]
  },
  {
   "cell_type": "code",
   "execution_count": 19,
   "id": "82c00c24-88a3-461a-85a7-c25b134198eb",
   "metadata": {},
   "outputs": [
    {
     "name": "stdout",
     "output_type": "stream",
     "text": [
      "['apple' 'banana' 'cherry' 'cherry1']\n"
     ]
    }
   ],
   "source": [
    "# sort a string\n",
    "# we can sort the string or boolean\n",
    "\n",
    "import numpy as np\n",
    "x=np.array(['banana','cherry', 'cherry1','apple'])\n",
    "y=np.sort(x)\n",
    "print(y)"
   ]
  },
  {
   "cell_type": "code",
   "execution_count": 14,
   "id": "22f3b6fe-9be3-4bee-bbc3-23fdf9a43817",
   "metadata": {},
   "outputs": [
    {
     "name": "stdout",
     "output_type": "stream",
     "text": [
      "['False' 'False' 'True']\n"
     ]
    }
   ],
   "source": [
    "# sort bollean\n",
    "import numpy as np\n",
    "x=np.array(['True','False','False'])\n",
    "y=np.sort(x)\n",
    "print(y)"
   ]
  },
  {
   "cell_type": "markdown",
   "id": "78617abe-af91-4092-b52f-051b8d0cb59d",
   "metadata": {},
   "source": [
    "# Filter array---- Filtering"
   ]
  },
  {
   "cell_type": "code",
   "execution_count": null,
   "id": "c43d5366-1e0b-4fa3-8f79-c20b4e47e0b2",
   "metadata": {},
   "outputs": [],
   "source": [
    "# getting some elements out of an existing array and creating a new array out of them is called filtering\n",
    "# In numpy you filter an array using a boolean index list\n",
    "\n",
    "# If the value at index is True then that element is contained in filtered array\n",
    "# If the value at index is False then that element is executed from  filtered array"
   ]
  },
  {
   "cell_type": "code",
   "execution_count": 23,
   "id": "b86c3b1a-830e-44c9-a74c-1626e5db6739",
   "metadata": {},
   "outputs": [
    {
     "name": "stdout",
     "output_type": "stream",
     "text": [
      "['a' 'f']\n"
     ]
    }
   ],
   "source": [
    "# to get  a and f from an array\n",
    "\n",
    "import numpy as np\n",
    "var = np.array(['a' , 's', 'd' , 'f' ])\n",
    "x= [True, False , False, True]\n",
    "new_var = var[x]\n",
    "print(new_var)"
   ]
  },
  {
   "cell_type": "code",
   "execution_count": null,
   "id": "2bdf538e-f4c7-4b19-bd12-f6328075cbb6",
   "metadata": {},
   "outputs": [],
   "source": []
  }
 ],
 "metadata": {
  "kernelspec": {
   "display_name": "Python 3 (ipykernel)",
   "language": "python",
   "name": "python3"
  },
  "language_info": {
   "codemirror_mode": {
    "name": "ipython",
    "version": 3
   },
   "file_extension": ".py",
   "mimetype": "text/x-python",
   "name": "python",
   "nbconvert_exporter": "python",
   "pygments_lexer": "ipython3",
   "version": "3.12.1"
  }
 },
 "nbformat": 4,
 "nbformat_minor": 5
}

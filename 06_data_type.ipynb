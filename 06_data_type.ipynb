{
 "cells": [
  {
   "cell_type": "markdown",
   "id": "29218002-e472-4856-a4d9-0aa66025485b",
   "metadata": {},
   "source": [
    "# data type in arrays -- function is dtype"
   ]
  },
  {
   "cell_type": "code",
   "execution_count": 4,
   "id": "5ff17450-cc9c-4d01-91c1-b5b2d0b30723",
   "metadata": {},
   "outputs": [
    {
     "name": "stdout",
     "output_type": "stream",
     "text": [
      " Data type is :  int32\n",
      "\n",
      "[ 1  2  3  4 12 13 14 15]\n"
     ]
    }
   ],
   "source": [
    "import numpy as np\n",
    "var = np.array([1,2,3,4,12,13,14,15])\n",
    "print(\" Data type is : \", var.dtype)\n",
    "print()\n",
    "print(var)"
   ]
  },
  {
   "cell_type": "code",
   "execution_count": 5,
   "id": "c3a1ae64-c6a2-4f02-a39f-212eef9bd866",
   "metadata": {},
   "outputs": [
    {
     "name": "stdout",
     "output_type": "stream",
     "text": [
      " Data type is :  float64\n",
      "\n",
      "[1.  2.  3.2 5.6]\n"
     ]
    }
   ],
   "source": [
    "import numpy as np\n",
    "var = np.array([1.0,2.0,3.2,5.6])\n",
    "print(\" Data type is : \", var.dtype)\n",
    "print()\n",
    "print(var)"
   ]
  },
  {
   "cell_type": "code",
   "execution_count": 6,
   "id": "8b8210d6-79a5-421e-a44c-d23b814c79d0",
   "metadata": {},
   "outputs": [
    {
     "name": "stdout",
     "output_type": "stream",
     "text": [
      " Data type is :  <U11\n",
      "\n",
      "['A' 'S' 'D' 'F' '0' '1' '2' '3']\n"
     ]
    }
   ],
   "source": [
    "import numpy as np\n",
    "var = np.array([\"A\",\"S\",\"D\",\"F\",0,1,2,3])\n",
    "print(\" Data type is : \", var.dtype)\n",
    "print()\n",
    "print(var)"
   ]
  },
  {
   "cell_type": "markdown",
   "id": "ad0b6163-cd29-430a-8de8-5eb6ea3172e9",
   "metadata": {},
   "source": [
    "# convert one data type to another"
   ]
  },
  {
   "cell_type": "code",
   "execution_count": 11,
   "id": "9ab0ecb9-e4b5-4e72-849c-cd97a9229707",
   "metadata": {},
   "outputs": [
    {
     "name": "stdout",
     "output_type": "stream",
     "text": [
      "data type is  int32\n",
      "data type is :  int8\n"
     ]
    }
   ],
   "source": [
    "x= np.array([1,2,3,4])\n",
    "print(\"data type is \", x.dtype)\n",
    "\n",
    "# int 32 to int8\n",
    "\n",
    "x1=np.array([1,2,3,4], dtype = np.int8)\n",
    "print(\"data type is : \" , x1.dtype)"
   ]
  },
  {
   "cell_type": "markdown",
   "id": "7f65e041-618d-491e-a70d-3194557d6e02",
   "metadata": {},
   "source": [
    "# int to float"
   ]
  },
  {
   "cell_type": "code",
   "execution_count": 14,
   "id": "d9f1ace7-9094-4558-b13c-a15475923ca1",
   "metadata": {},
   "outputs": [
    {
     "name": "stdout",
     "output_type": "stream",
     "text": [
      "data type is  float32\n",
      "[1. 2. 3. 4.]\n"
     ]
    }
   ],
   "source": [
    "x= np.array([1,2,3,4],dtype = \"f\")\n",
    "print(\"data type is \", x.dtype)\n",
    "print(x)"
   ]
  },
  {
   "cell_type": "markdown",
   "id": "e475d9f6-356f-46a4-9522-a7159ac9846b",
   "metadata": {},
   "source": [
    "# data type can be used a sunction also"
   ]
  },
  {
   "cell_type": "code",
   "execution_count": 15,
   "id": "ea380f68-dbbd-42b5-92d7-27ca51804e2f",
   "metadata": {},
   "outputs": [
    {
     "name": "stdout",
     "output_type": "stream",
     "text": [
      "data type is  int32\n",
      "data type is  float32\n",
      "[1 2 3 4]\n",
      "[1. 2. 3. 4.]\n"
     ]
    }
   ],
   "source": [
    "x= np.array([1,2,3,4])\n",
    "new=np.float32(x)\n",
    "print(\"data type is \", x.dtype)\n",
    "print(\"data type is \", new.dtype)\n",
    "print(x)\n",
    "print(new)"
   ]
  },
  {
   "cell_type": "markdown",
   "id": "b384d916-08cf-4182-86e5-ae3f8ea7200e",
   "metadata": {},
   "source": [
    "# directly tansfer one data type to another"
   ]
  },
  {
   "cell_type": "code",
   "execution_count": 16,
   "id": "9901d125-a406-406b-8e0b-2e439b25a27b",
   "metadata": {},
   "outputs": [
    {
     "name": "stdout",
     "output_type": "stream",
     "text": [
      "[1 2 3 4]\n",
      "[1. 2. 3. 4.]\n"
     ]
    }
   ],
   "source": [
    "x= np.array([1,2,3,4])\n",
    "new=x.astype(float)\n",
    "\n",
    "print(x)\n",
    "print(new)"
   ]
  },
  {
   "cell_type": "code",
   "execution_count": null,
   "id": "002db925-283e-4e58-950e-6596c8e5b945",
   "metadata": {},
   "outputs": [],
   "source": []
  }
 ],
 "metadata": {
  "kernelspec": {
   "display_name": "Python 3 (ipykernel)",
   "language": "python",
   "name": "python3"
  },
  "language_info": {
   "codemirror_mode": {
    "name": "ipython",
    "version": 3
   },
   "file_extension": ".py",
   "mimetype": "text/x-python",
   "name": "python",
   "nbconvert_exporter": "python",
   "pygments_lexer": "ipython3",
   "version": "3.12.1"
  }
 },
 "nbformat": 4,
 "nbformat_minor": 5
}

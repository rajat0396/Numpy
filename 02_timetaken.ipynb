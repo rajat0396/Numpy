{
 "cells": [
  {
   "cell_type": "markdown",
   "id": "9fa9ae0f-12f0-49d5-80a7-8b56c842de1b",
   "metadata": {},
   "source": [
    "#Time taken by list and array "
   ]
  },
  {
   "cell_type": "code",
   "execution_count": 3,
   "id": "825d3651-c1eb-427b-b883-0c69bda981d4",
   "metadata": {},
   "outputs": [
    {
     "name": "stdout",
     "output_type": "stream",
     "text": [
      "798 ns ± 16.8 ns per loop (mean ± std. dev. of 7 runs, 1,000,000 loops each)\n"
     ]
    }
   ],
   "source": [
    "# time taken by list \n",
    "%timeit [j**4 for j in range(1,9)]\n"
   ]
  },
  {
   "cell_type": "markdown",
   "id": "e312bbf8-d628-42fd-81d2-3310da3b429a",
   "metadata": {},
   "source": [
    "# time taken by array"
   ]
  },
  {
   "cell_type": "code",
   "execution_count": 2,
   "id": "dc0ebb8d-016a-4dd7-ae2c-d72038d06d23",
   "metadata": {},
   "outputs": [
    {
     "name": "stdout",
     "output_type": "stream",
     "text": [
      "4.72 µs ± 49.7 ns per loop (mean ± std. dev. of 7 runs, 100,000 loops each)\n"
     ]
    }
   ],
   "source": [
    "import numpy as np\n",
    "\n",
    "%timeit np.arange(1,9)**4"
   ]
  }
 ],
 "metadata": {
  "kernelspec": {
   "display_name": "Python 3 (ipykernel)",
   "language": "python",
   "name": "python3"
  },
  "language_info": {
   "codemirror_mode": {
    "name": "ipython",
    "version": 3
   },
   "file_extension": ".py",
   "mimetype": "text/x-python",
   "name": "python",
   "nbconvert_exporter": "python",
   "pygments_lexer": "ipython3",
   "version": "3.12.1"
  }
 },
 "nbformat": 4,
 "nbformat_minor": 5
}

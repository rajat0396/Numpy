{
 "cells": [
  {
   "cell_type": "markdown",
   "id": "1c9cab29-bb2b-42f0-920f-8a331633bde9",
   "metadata": {},
   "source": [
    "# Matrix Functions"
   ]
  },
  {
   "cell_type": "code",
   "execution_count": 6,
   "id": "61a7a2f6-f862-451e-bb0c-80d35fdbbf93",
   "metadata": {},
   "outputs": [
    {
     "name": "stdout",
     "output_type": "stream",
     "text": [
      "[[1 2 3]\n",
      " [4 5 6]]\n",
      "\n",
      "(2, 3)\n",
      "\n",
      "[[1 4]\n",
      " [2 5]\n",
      " [3 6]]\n",
      "\n",
      "(3, 2)\n"
     ]
    }
   ],
   "source": [
    "# transpose matrix\n",
    "\n",
    "import numpy as np\n",
    "x = np.matrix ([[1,2,3],[4,5,6]])\n",
    "print(x)\n",
    "print()\n",
    "print(x.shape)\n",
    "print()\n",
    "y=np.transpose(x)\n",
    "print(y)\n",
    "print()\n",
    "print(y.shape)"
   ]
  },
  {
   "cell_type": "code",
   "execution_count": 10,
   "id": "2a6475be-67ae-4846-a916-e67206a33072",
   "metadata": {},
   "outputs": [
    {
     "name": "stdout",
     "output_type": "stream",
     "text": [
      "[[1 2 3]\n",
      " [4 5 6]]\n",
      "\n",
      "(2, 3)\n",
      "\n",
      "[[1 4]\n",
      " [2 5]\n",
      " [3 6]]\n"
     ]
    }
   ],
   "source": [
    "# swapaxes\n",
    "x = np.matrix ([[1,2,3],[4,5,6]])\n",
    "print(x)\n",
    "print()\n",
    "print(x.shape)\n",
    "print()\n",
    "y=np.swapaxes(x,0,1)               # axis 0 converts into axis 1\n",
    "print(y)"
   ]
  },
  {
   "cell_type": "code",
   "execution_count": 14,
   "id": "1f0c091b-bda1-4043-bfa7-54603eaa83da",
   "metadata": {},
   "outputs": [
    {
     "name": "stdout",
     "output_type": "stream",
     "text": [
      "[[1 2]\n",
      " [3 4]]\n",
      "\n",
      "(2, 2)\n",
      "\n",
      "[[-2.   1. ]\n",
      " [ 1.5 -0.5]]\n"
     ]
    }
   ],
   "source": [
    "# inverse matrix\n",
    "x = np.matrix ([[1,2],[3,4]])\n",
    "print(x)\n",
    "print()\n",
    "print(x.shape)\n",
    "print()\n",
    "y=np.linalg.inv(x)\n",
    "print(y)"
   ]
  },
  {
   "cell_type": "code",
   "execution_count": 21,
   "id": "f153b5f3-bb60-450e-938b-835f3e3cdd91",
   "metadata": {},
   "outputs": [
    {
     "name": "stdout",
     "output_type": "stream",
     "text": [
      "[[1 2]\n",
      " [2 3]]\n",
      "\n",
      "<class 'numpy.matrix'>\n",
      "\n",
      "[[1 0]\n",
      " [0 1]]\n",
      "\n",
      "[[13. -8.]\n",
      " [-8.  5.]]\n"
     ]
    }
   ],
   "source": [
    "# power matrix  \n",
    "\n",
    "import numpy as np\n",
    "x= np.matrix([[1,2],[2,3]])\n",
    "print(x)\n",
    "print()\n",
    "print(type(x))\n",
    "print()\n",
    "y=np.linalg.matrix_power(x,0)        # when power is 0 its identity matrix\n",
    "print(y)\n",
    "print()\n",
    "z=np.linalg.matrix_power(x,-2)\n",
    "print(z)\n",
    "\n",
    "\n",
    "\n",
    "\n"
   ]
  },
  {
   "cell_type": "code",
   "execution_count": 25,
   "id": "4e463a0f-60a2-4f7e-b971-ce2b3c1b6114",
   "metadata": {},
   "outputs": [
    {
     "name": "stdout",
     "output_type": "stream",
     "text": [
      "[[1 2 3]\n",
      " [4 5 6]\n",
      " [7 8 9]]\n",
      "\n",
      "<class 'numpy.matrix'>\n",
      "\n",
      "0.0\n"
     ]
    }
   ],
   "source": [
    "# determinate of a maytrix\n",
    "x= np.matrix([[1,2,3],[4,5,6],[7,8,9]])\n",
    "print(x)\n",
    "print()\n",
    "print(type(x))\n",
    "print()\n",
    "\n",
    "y= np.linalg.det(x)\n",
    "print(y)"
   ]
  },
  {
   "cell_type": "code",
   "execution_count": null,
   "id": "edbe97fc-8d71-4e1c-92c2-dd777e4f9eb4",
   "metadata": {},
   "outputs": [],
   "source": [
    "import numpy as np\n",
    "temp= np.array([1,2,3,4,5,6,7,8,9])\n",
    "x= np.reshape(temp,(3 , 3))\n",
    "print(x)"
   ]
  },
  {
   "cell_type": "code",
   "execution_count": null,
   "id": "cdb39861-5f9c-4dc7-adc8-8bcfb1c6ff8e",
   "metadata": {},
   "outputs": [],
   "source": []
  }
 ],
 "metadata": {
  "kernelspec": {
   "display_name": "Python 3 (ipykernel)",
   "language": "python",
   "name": "python3"
  },
  "language_info": {
   "codemirror_mode": {
    "name": "ipython",
    "version": 3
   },
   "file_extension": ".py",
   "mimetype": "text/x-python",
   "name": "python",
   "nbconvert_exporter": "python",
   "pygments_lexer": "ipython3",
   "version": "3.12.1"
  }
 },
 "nbformat": 4,
 "nbformat_minor": 5
}

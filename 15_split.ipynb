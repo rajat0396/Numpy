{
 "cells": [
  {
   "cell_type": "markdown",
   "id": "d90aac52-f328-45ca-87f4-bf9950ea1cbf",
   "metadata": {},
   "source": [
    "# split numpy array"
   ]
  },
  {
   "cell_type": "code",
   "execution_count": 2,
   "id": "dd38b386-9737-467d-ad87-dfba0ff56b38",
   "metadata": {},
   "outputs": [
    {
     "name": "stdout",
     "output_type": "stream",
     "text": [
      "[array([1, 2]), array([3, 4]), array([5, 6])]\n",
      "[1 2]\n",
      "\n",
      "[3 4]\n",
      "\n",
      "[5 6]\n"
     ]
    }
   ],
   "source": [
    "# split is opposite of joining\n",
    "# if we want to split and 1 d into three arrays and access any one of them\n",
    "\n",
    "import numpy as np \n",
    "x= np.array([1,2,3,4,5,6])\n",
    "y = np.array_split(x,3)\n",
    "print(y)\n",
    "\n",
    "print(y[0])\n",
    "print()\n",
    "print(y[1])\n",
    "print()\n",
    "print(y[2])\n",
    "# we can use split() method also in place of array_split() but when required elements are less then split() method wont work"
   ]
  },
  {
   "cell_type": "code",
   "execution_count": 3,
   "id": "a0746af4-8883-4550-96bb-eb8f0f5c51ca",
   "metadata": {},
   "outputs": [
    {
     "name": "stdout",
     "output_type": "stream",
     "text": [
      "[array([1, 2]), array([3, 4]), array([5]), array([6])]\n"
     ]
    }
   ],
   "source": [
    "# if no of elements are less than required\n",
    "# split array into 4 \n",
    "\n",
    "import numpy as np \n",
    "x= np.array([1,2,3,4,5,6])\n",
    "y = np.array_split(x,4)\n",
    "print(y)"
   ]
  },
  {
   "cell_type": "code",
   "execution_count": 5,
   "id": "5f12cb35-50c7-4cf2-a32b-0e03e99a2bd6",
   "metadata": {},
   "outputs": [
    {
     "name": "stdout",
     "output_type": "stream",
     "text": [
      "[array([[1, 2],\n",
      "       [3, 4]]), array([[5, 6],\n",
      "       [7, 8]])]\n"
     ]
    }
   ],
   "source": [
    "# splitting 2 d arrays\n",
    "\n",
    "import numpy as np \n",
    "x= np.array([[1,2],[3,4],[5,6],[7,8]])\n",
    "y = np.array_split(x,2)\n",
    "print(y)"
   ]
  },
  {
   "cell_type": "code",
   "execution_count": 7,
   "id": "dba4d32f-6a7f-4076-8fd3-699e41f212a1",
   "metadata": {},
   "outputs": [
    {
     "name": "stdout",
     "output_type": "stream",
     "text": [
      "[array([[1, 2, 3],\n",
      "       [4, 5, 6]]), array([[ 7,  8,  9],\n",
      "       [10, 11, 12]]), array([[13, 14, 15],\n",
      "       [16, 17, 18]])]\n"
     ]
    }
   ],
   "source": [
    "# split 2 array into three 2d array\n",
    "\n",
    "import numpy as np \n",
    "x= np.array([[1,2,3],[4,5,6],[7,8,9],[10,11,12],[13,14,15],[16,17,18]])\n",
    "y = np.array_split(x,3)\n",
    "print(y)"
   ]
  },
  {
   "cell_type": "code",
   "execution_count": 14,
   "id": "e0965c57-8422-43c0-9ad1-448b024ceade",
   "metadata": {},
   "outputs": [
    {
     "name": "stdout",
     "output_type": "stream",
     "text": [
      "[array([[ 1],\n",
      "       [ 4],\n",
      "       [ 7],\n",
      "       [10],\n",
      "       [13],\n",
      "       [16]]), array([[ 2],\n",
      "       [ 5],\n",
      "       [ 8],\n",
      "       [11],\n",
      "       [14],\n",
      "       [17]]), array([[ 3],\n",
      "       [ 6],\n",
      "       [ 9],\n",
      "       [12],\n",
      "       [15],\n",
      "       [18]])]\n",
      "\n",
      "[array([[ 1],\n",
      "       [ 4],\n",
      "       [ 7],\n",
      "       [10],\n",
      "       [13],\n",
      "       [16]]), array([[ 2],\n",
      "       [ 5],\n",
      "       [ 8],\n",
      "       [11],\n",
      "       [14],\n",
      "       [17]]), array([[ 3],\n",
      "       [ 6],\n",
      "       [ 9],\n",
      "       [12],\n",
      "       [15],\n",
      "       [18]])]\n"
     ]
    }
   ],
   "source": [
    "# same above example we can use by axis = 1 along rows also \n",
    "import numpy as np \n",
    "x= np.array([[1,2,3],[4,5,6],[7,8,9],[10,11,12],[13,14,15],[16,17,18]])\n",
    "y = np.array_split(x,3,axis=1)\n",
    "\n",
    "print(y)\n",
    "print()\n",
    "\n",
    "z = np.hsplit(x,3)                 # hsplit works as same as axis = 1 along row both the output will be same of  y and z \n",
    "print(z)                           # similarly we can use vslipt and dspilt as same as dstack and vstack"
   ]
  },
  {
   "cell_type": "code",
   "execution_count": null,
   "id": "48917b6d-9de8-4239-b51f-b92f4dbe23ee",
   "metadata": {},
   "outputs": [],
   "source": []
  }
 ],
 "metadata": {
  "kernelspec": {
   "display_name": "Python 3 (ipykernel)",
   "language": "python",
   "name": "python3"
  },
  "language_info": {
   "codemirror_mode": {
    "name": "ipython",
    "version": 3
   },
   "file_extension": ".py",
   "mimetype": "text/x-python",
   "name": "python",
   "nbconvert_exporter": "python",
   "pygments_lexer": "ipython3",
   "version": "3.12.1"
  }
 },
 "nbformat": 4,
 "nbformat_minor": 5
}

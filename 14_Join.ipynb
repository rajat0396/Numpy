{
 "cells": [
  {
   "cell_type": "markdown",
   "id": "d0a868b0-8bb6-42f5-890f-376db27966d1",
   "metadata": {},
   "source": [
    "# Numpy array join and split function"
   ]
  },
  {
   "cell_type": "code",
   "execution_count": 4,
   "id": "20d4923e-6f10-46b9-a5fc-143436c00bbd",
   "metadata": {},
   "outputs": [
    {
     "name": "stdout",
     "output_type": "stream",
     "text": [
      "[ 1  2  3  4 13  5  7  8]\n"
     ]
    }
   ],
   "source": [
    "# join array 1D\n",
    "\n",
    "import numpy as np\n",
    "\n",
    "x = np.array([1,2,3,4])\n",
    "y = np.array([13,5,7,8])\n",
    "\n",
    "z= np.concatenate((x,y))\n",
    "print(z)"
   ]
  },
  {
   "cell_type": "code",
   "execution_count": 6,
   "id": "a1629de9-ea82-42f5-9d03-c9ffb8d22652",
   "metadata": {},
   "outputs": [
    {
     "name": "stdout",
     "output_type": "stream",
     "text": [
      "[[ 1  2 13  5]\n",
      " [ 3  4  7  8]]\n",
      "\n",
      "[[ 1  2]\n",
      " [ 3  4]\n",
      " [13  5]\n",
      " [ 7  8]]\n"
     ]
    }
   ],
   "source": [
    "# 2d array\n",
    "\n",
    "import numpy as np\n",
    "\n",
    "x = np.array([[1,2],[3,4]])\n",
    "y = np.array([[13,5],[7,8]])\n",
    "\n",
    "z= np.concatenate((x,y),axis=1)\n",
    "z1= np.concatenate((x,y),axis=0)\n",
    "print(z)\n",
    "print()\n",
    "print(z1)"
   ]
  },
  {
   "cell_type": "code",
   "execution_count": 10,
   "id": "9eb67fe0-393c-412c-812c-e2dc0d734d43",
   "metadata": {},
   "outputs": [
    {
     "name": "stdout",
     "output_type": "stream",
     "text": [
      "[[ 1 13]\n",
      " [ 2  5]\n",
      " [ 3  7]\n",
      " [ 4  8]]\n",
      "\n",
      "[[ 1  2  3  4]\n",
      " [13  5  7  8]]\n"
     ]
    }
   ],
   "source": [
    "#using stack function - it is same as concatanetion only difference is it works alsong axis--- stck()\n",
    "import numpy as np\n",
    "\n",
    "x = np.array([1,2,3,4])\n",
    "y = np.array([13,5,7,8])\n",
    "\n",
    "z= np.stack((x,y),axis = 1)           # stacking along axis\n",
    "print(z)\n",
    "\n",
    "print()\n",
    "\n",
    "z1 =  np.stack((x,y))                # stacking over one another\n",
    "print(z1)"
   ]
  },
  {
   "cell_type": "code",
   "execution_count": 15,
   "id": "90465a34-82af-4747-b150-49d8589b647f",
   "metadata": {},
   "outputs": [
    {
     "name": "stdout",
     "output_type": "stream",
     "text": [
      "[ 1  2  3  4 13  5  7  8]\n",
      "\n",
      "[[ 1  2  3  4]\n",
      " [13  5  7  8]]\n",
      "\n",
      "[[[ 1 13]\n",
      "  [ 2  5]\n",
      "  [ 3  7]\n",
      "  [ 4  8]]]\n"
     ]
    }
   ],
   "source": [
    "# stacking along rows, columns,height/depth \n",
    "# 1. htack() - stacking alsong rows\n",
    "# 2. vstack() - stacking alsong columns\n",
    "# 3. dstack() - stacking alsong height\n",
    "\n",
    "x = np.array([1,2,3,4])\n",
    "y = np.array([13,5,7,8])\n",
    "\n",
    "z= np.hstack((x,y))\n",
    "print(z)\n",
    "\n",
    "print()\n",
    "\n",
    "z1 = np.vstack((x,y))\n",
    "print(z1)\n",
    "\n",
    "print()\n",
    "\n",
    "z2 = np.dstack((x,y))\n",
    "print(z2)"
   ]
  },
  {
   "cell_type": "code",
   "execution_count": null,
   "id": "33ec5c13-a9ce-4326-95d1-a85eff1d294a",
   "metadata": {},
   "outputs": [],
   "source": []
  }
 ],
 "metadata": {
  "kernelspec": {
   "display_name": "Python 3 (ipykernel)",
   "language": "python",
   "name": "python3"
  },
  "language_info": {
   "codemirror_mode": {
    "name": "ipython",
    "version": 3
   },
   "file_extension": ".py",
   "mimetype": "text/x-python",
   "name": "python",
   "nbconvert_exporter": "python",
   "pygments_lexer": "ipython3",
   "version": "3.12.1"
  }
 },
 "nbformat": 4,
 "nbformat_minor": 5
}

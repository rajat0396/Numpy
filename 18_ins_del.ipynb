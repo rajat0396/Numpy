{
 "cells": [
  {
   "cell_type": "markdown",
   "id": "d58534bd-bc7e-4ebc-8a65-537cc48ccce6",
   "metadata": {},
   "source": [
    "# insert and Delete Functions"
   ]
  },
  {
   "cell_type": "code",
   "execution_count": 1,
   "id": "fd57a942-d324-4a23-a1ad-da056a040f0a",
   "metadata": {},
   "outputs": [
    {
     "name": "stdout",
     "output_type": "stream",
     "text": [
      "[ 1  2 40  3  4]\n"
     ]
    }
   ],
   "source": [
    "# insert\n",
    "\n",
    "import numpy as np\n",
    "x=np.array([1,2,3,4])\n",
    "y=np.insert(x,2,40)           # 2 is the index value where we have to insert , and 40 is the value which we have to insert\n",
    "print(y)"
   ]
  },
  {
   "cell_type": "code",
   "execution_count": 3,
   "id": "91e7661f-3247-403a-9bec-42f0f2a57a7c",
   "metadata": {},
   "outputs": [
    {
     "name": "stdout",
     "output_type": "stream",
     "text": [
      "[1 2 3 4]\n",
      "\n",
      "[ 1  2 40  3  4 40]\n"
     ]
    }
   ],
   "source": [
    "# value to be inserted at multiple index\n",
    "import numpy as np\n",
    "x=np.array([1,2,3,4])\n",
    "print(x)\n",
    "print()\n",
    "y=np.insert(x,(2,4),40)           \n",
    "print(y)"
   ]
  },
  {
   "cell_type": "code",
   "execution_count": 5,
   "id": "3bea6d47-4fda-4a93-9fde-cce6d87638fe",
   "metadata": {},
   "outputs": [
    {
     "name": "stdout",
     "output_type": "stream",
     "text": [
      "[1 2 3 4]\n",
      "\n",
      "[1 2 6 3 4 6]\n"
     ]
    }
   ],
   "source": [
    "# float value - it does not insert float value will take integer value only\n",
    "import numpy as np\n",
    "x=np.array([1,2,3,4])\n",
    "print(x)\n",
    "print()\n",
    "y=np.insert(x,(2,4),6.5)           \n",
    "print(y)"
   ]
  },
  {
   "cell_type": "code",
   "execution_count": 9,
   "id": "e67c2595-3065-466c-95b0-88f2b156ef15",
   "metadata": {},
   "outputs": [],
   "source": [
    "# 2D array"
   ]
  },
  {
   "cell_type": "code",
   "execution_count": 7,
   "id": "c8211439-a30d-4366-9a67-a4bec64434ca",
   "metadata": {},
   "outputs": [
    {
     "name": "stdout",
     "output_type": "stream",
     "text": [
      "[[1 2 3]\n",
      " [1 2 3]]\n",
      "\n",
      "[[1 2 3]\n",
      " [6 6 6]\n",
      " [1 2 3]]\n"
     ]
    }
   ],
   "source": [
    "import numpy as np\n",
    "x=np.array([[1,2,3],[1,2,3]])\n",
    "print(x)\n",
    "print()\n",
    "y=np.insert(x,1,6,axis=0)           \n",
    "print(y)"
   ]
  },
  {
   "cell_type": "code",
   "execution_count": 8,
   "id": "0e73693d-e16b-4e2c-b609-5cecd1f4948a",
   "metadata": {},
   "outputs": [
    {
     "name": "stdout",
     "output_type": "stream",
     "text": [
      "[[1 2 3]\n",
      " [1 2 3]]\n",
      "\n",
      "[[1 6 2 3]\n",
      " [1 6 2 3]]\n"
     ]
    }
   ],
   "source": [
    "x=np.array([[1,2,3],[1,2,3]])\n",
    "print(x)\n",
    "print()\n",
    "y=np.insert(x,1,6,axis=1)           \n",
    "print(y)"
   ]
  },
  {
   "cell_type": "code",
   "execution_count": 10,
   "id": "60a1679c-30be-4de4-b395-23e676a04f0f",
   "metadata": {},
   "outputs": [
    {
     "name": "stdout",
     "output_type": "stream",
     "text": [
      "[1 2 3]\n"
     ]
    }
   ],
   "source": [
    "# delete function\n",
    "import numpy as np\n",
    "x=np.array([1,2,3,4])\n",
    "y=np.delete(x,3)               # 3 is the index value at which needs to be deleted\n",
    "print(y)"
   ]
  },
  {
   "cell_type": "code",
   "execution_count": null,
   "id": "5511156b-2778-4ee1-a426-56b6a46587c9",
   "metadata": {},
   "outputs": [],
   "source": []
  }
 ],
 "metadata": {
  "kernelspec": {
   "display_name": "Python 3 (ipykernel)",
   "language": "python",
   "name": "python3"
  },
  "language_info": {
   "codemirror_mode": {
    "name": "ipython",
    "version": 3
   },
   "file_extension": ".py",
   "mimetype": "text/x-python",
   "name": "python",
   "nbconvert_exporter": "python",
   "pygments_lexer": "ipython3",
   "version": "3.12.1"
  }
 },
 "nbformat": 4,
 "nbformat_minor": 5
}

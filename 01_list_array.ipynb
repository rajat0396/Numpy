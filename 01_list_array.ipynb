{
 "cells": [
  {
   "cell_type": "markdown",
   "id": "65def856-e917-4d48-a698-9e92a78918f4",
   "metadata": {},
   "source": [
    "list type "
   ]
  },
  {
   "cell_type": "code",
   "execution_count": 1,
   "id": "f38e066b-9106-4655-abf5-467e7a71b929",
   "metadata": {
    "collapsed": true,
    "jupyter": {
     "outputs_hidden": true
    }
   },
   "outputs": [
    {
     "name": "stdout",
     "output_type": "stream",
     "text": [
      "[1, 2, 3, 4]\n",
      "<class 'list'>\n"
     ]
    }
   ],
   "source": [
    "l=[1,2,3,4]\n",
    "print(l)\n",
    "print(type(l))"
   ]
  },
  {
   "cell_type": "code",
   "execution_count": 2,
   "id": "b8de453e-3c2d-4f61-add2-92e2d877aad9",
   "metadata": {},
   "outputs": [
    {
     "name": "stdout",
     "output_type": "stream",
     "text": [
      "[1, 2, 3, 4]\n",
      "[2, 3, 4, 5]\n",
      "<class 'list'>\n",
      "<class 'list'>\n"
     ]
    }
   ],
   "source": [
    "l=[1,2,3,4]\n",
    "l1=[2,3,4,5]\n",
    "print(l)\n",
    "print(l1)\n",
    "print(type(l))\n",
    "print(type(l1))"
   ]
  },
  {
   "cell_type": "markdown",
   "id": "96241202-3a7c-41d3-84b4-0ba8f874bfd3",
   "metadata": {},
   "source": [
    "#  array convert from list"
   ]
  },
  {
   "cell_type": "code",
   "execution_count": 4,
   "id": "163f8ea8-9b9f-4776-8d69-07653ad0498b",
   "metadata": {},
   "outputs": [
    {
     "name": "stdout",
     "output_type": "stream",
     "text": [
      "[1 2 3 4]\n",
      "<class 'numpy.ndarray'>\n"
     ]
    }
   ],
   "source": [
    "import numpy as np\n",
    "x = np.array([1,2,3,4])\n",
    "print(x)\n",
    "print(type(x))"
   ]
  },
  {
   "cell_type": "code",
   "execution_count": 3,
   "id": "b001cf09-5481-48c7-a104-2bd02bb2f5c0",
   "metadata": {},
   "outputs": [
    {
     "name": "stdout",
     "output_type": "stream",
     "text": [
      "[1, 2, 3, 4]\n",
      "<class 'list'>\n"
     ]
    }
   ],
   "source": [
    "l=[1,2,3,4]\n",
    "print(l)\n",
    "print(type(l))"
   ]
  }
 ],
 "metadata": {
  "kernelspec": {
   "display_name": "Python 3 (ipykernel)",
   "language": "python",
   "name": "python3"
  },
  "language_info": {
   "codemirror_mode": {
    "name": "ipython",
    "version": 3
   },
   "file_extension": ".py",
   "mimetype": "text/x-python",
   "name": "python",
   "nbconvert_exporter": "python",
   "pygments_lexer": "ipython3",
   "version": "3.12.1"
  }
 },
 "nbformat": 4,
 "nbformat_minor": 5
}

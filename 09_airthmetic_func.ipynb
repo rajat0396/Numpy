{
 "cells": [
  {
   "cell_type": "markdown",
   "id": "51d7d0ea-973c-444d-a20f-8e7c363bc4ee",
   "metadata": {},
   "source": [
    "# airthmetic function"
   ]
  },
  {
   "cell_type": "markdown",
   "id": "590055b5-8c90-4a0a-9c2a-d006dbf096e9",
   "metadata": {},
   "source": [
    "# min and max function"
   ]
  },
  {
   "cell_type": "code",
   "execution_count": 2,
   "id": "6855407b-ddcc-4fc4-9739-9241e981ee1e",
   "metadata": {},
   "outputs": [
    {
     "name": "stdout",
     "output_type": "stream",
     "text": [
      "the min no is :  1\n",
      "the max no is :  451\n"
     ]
    }
   ],
   "source": [
    "import numpy as np\n",
    "x = np.array([1,23,45,67,46,99,100,123,451,24,1,5])\n",
    "print(\"the min no is : \" , np.min(x))\n",
    "print(\"the max no is : \" , np.max(x))"
   ]
  },
  {
   "cell_type": "markdown",
   "id": "14d83719-e2f0-4caa-a6c1-1a81e8882d53",
   "metadata": {},
   "source": [
    "# argmin and argmax function tell you the position of the min and max "
   ]
  },
  {
   "cell_type": "code",
   "execution_count": 5,
   "id": "25cd8b8c-f534-4999-b313-ef3445bf93ce",
   "metadata": {},
   "outputs": [
    {
     "name": "stdout",
     "output_type": "stream",
     "text": [
      "the min no is :  1 0\n",
      "the max no is :  8 451\n"
     ]
    }
   ],
   "source": [
    "import numpy as np\n",
    "x = np.array([1,23,45,67,46,99,100,123,451,24,1,5])\n",
    "print(\"the min no is : \" , np.min(x),np.argmin(x))\n",
    "print(\"the max no is : \" , np.argmax(x),np.max(x))"
   ]
  },
  {
   "cell_type": "markdown",
   "id": "9c68287a-88c1-4e75-b158-caff563e63a3",
   "metadata": {},
   "source": [
    "# sqrt function"
   ]
  },
  {
   "cell_type": "code",
   "execution_count": 6,
   "id": "02c95c4a-46a1-403a-bd77-d34fa1f07a9c",
   "metadata": {},
   "outputs": [
    {
     "name": "stdout",
     "output_type": "stream",
     "text": [
      "the sqrt of an array is :  [ 1.          4.79583152  6.70820393  8.18535277  6.78232998  9.94987437\n",
      " 10.         11.09053651 21.23676058  4.89897949  1.          2.23606798]\n"
     ]
    }
   ],
   "source": [
    "import numpy as np\n",
    "x = np.array([1,23,45,67,46,99,100,123,451,24,1,5])\n",
    "print(\"the sqrt of an array is : \" , np.sqrt(x))"
   ]
  },
  {
   "cell_type": "markdown",
   "id": "7326f45f-964b-4d24-826b-bd49476612bd",
   "metadata": {},
   "source": [
    "# sin and cos value"
   ]
  },
  {
   "cell_type": "code",
   "execution_count": 8,
   "id": "e4f8bbac-6386-45b2-a2a9-1c92585b7d7d",
   "metadata": {},
   "outputs": [
    {
     "name": "stdout",
     "output_type": "stream",
     "text": [
      "the sin values are :  [0.84147098 0.90929743 0.14112001]\n",
      "the cos values are :  [ 0.54030231 -0.41614684 -0.9899925 ]\n"
     ]
    }
   ],
   "source": [
    "import numpy as np\n",
    "x1 = np.array([1,2,3])\n",
    "print(\"the sin values are : \", np.sin(x1))\n",
    "print(\"the cos values are : \", np.cos(x1))"
   ]
  },
  {
   "cell_type": "markdown",
   "id": "3282cfbe-57d3-4056-b103-d258db2a9a0f",
   "metadata": {},
   "source": [
    "# cumsum - commulative sum"
   ]
  },
  {
   "cell_type": "code",
   "execution_count": 16,
   "id": "2593c7a4-538f-4df6-91d4-c668d9981e83",
   "metadata": {},
   "outputs": [
    {
     "name": "stdout",
     "output_type": "stream",
     "text": [
      "the comsum is : [ 1  3  6 10]\n"
     ]
    }
   ],
   "source": [
    "import numpy as np\n",
    "x= np.array ([1,2,3,4])\n",
    "print(\"the comsum is :\" , np.cumsum(x))"
   ]
  },
  {
   "cell_type": "code",
   "execution_count": 13,
   "id": "38e1de17-0698-4b91-b438-c0ac2f608518",
   "metadata": {},
   "outputs": [
    {
     "name": "stdout",
     "output_type": "stream",
     "text": [
      "1.26.3\n",
      "Build Dependencies:\n",
      "  blas:\n",
      "    detection method: pkgconfig\n",
      "    found: true\n",
      "    include directory: /c/opt/64/include\n",
      "    lib directory: /c/opt/64/lib\n",
      "    name: openblas64\n",
      "    openblas configuration: USE_64BITINT=1 DYNAMIC_ARCH=1 DYNAMIC_OLDER= NO_CBLAS=\n",
      "      NO_LAPACK= NO_LAPACKE= NO_AFFINITY=1 USE_OPENMP= SKYLAKEX MAX_THREADS=2\n",
      "    pc file directory: C:/opt/64/lib/pkgconfig\n",
      "    version: 0.3.23.dev\n",
      "  lapack:\n",
      "    detection method: internal\n",
      "    found: true\n",
      "    include directory: unknown\n",
      "    lib directory: unknown\n",
      "    name: dep3011898447328\n",
      "    openblas configuration: unknown\n",
      "    pc file directory: unknown\n",
      "    version: 1.26.3\n",
      "Compilers:\n",
      "  c:\n",
      "    commands: cl\n",
      "    linker: link\n",
      "    name: msvc\n",
      "    version: 19.29.30153\n",
      "  c++:\n",
      "    commands: cl\n",
      "    linker: link\n",
      "    name: msvc\n",
      "    version: 19.29.30153\n",
      "  cython:\n",
      "    commands: cython\n",
      "    linker: cython\n",
      "    name: cython\n",
      "    version: 3.0.7\n",
      "Machine Information:\n",
      "  build:\n",
      "    cpu: x86_64\n",
      "    endian: little\n",
      "    family: x86_64\n",
      "    system: windows\n",
      "  host:\n",
      "    cpu: x86_64\n",
      "    endian: little\n",
      "    family: x86_64\n",
      "    system: windows\n",
      "Python Information:\n",
      "  path: C:\\Users\\runneradmin\\AppData\\Local\\Temp\\cibw-run-skelyuts\\cp312-win_amd64\\build\\venv\\Scripts\\python.exe\n",
      "  version: '3.12'\n",
      "SIMD Extensions:\n",
      "  baseline:\n",
      "  - SSE\n",
      "  - SSE2\n",
      "  - SSE3\n",
      "  found:\n",
      "  - SSSE3\n",
      "  - SSE41\n",
      "  - POPCNT\n",
      "  - SSE42\n",
      "  - AVX\n",
      "  - F16C\n",
      "  - FMA3\n",
      "  - AVX2\n",
      "  not found:\n",
      "  - AVX512F\n",
      "  - AVX512CD\n",
      "  - AVX512_SKX\n",
      "  - AVX512_CLX\n",
      "  - AVX512_CNL\n",
      "  - AVX512_ICL\n",
      "\n"
     ]
    }
   ],
   "source": []
  },
  {
   "cell_type": "code",
   "execution_count": null,
   "id": "b83efb7b-30de-467b-9359-e20af9037f68",
   "metadata": {},
   "outputs": [],
   "source": []
  }
 ],
 "metadata": {
  "kernelspec": {
   "display_name": "Python 3 (ipykernel)",
   "language": "python",
   "name": "python3"
  },
  "language_info": {
   "codemirror_mode": {
    "name": "ipython",
    "version": 3
   },
   "file_extension": ".py",
   "mimetype": "text/x-python",
   "name": "python",
   "nbconvert_exporter": "python",
   "pygments_lexer": "ipython3",
   "version": "3.12.1"
  }
 },
 "nbformat": 4,
 "nbformat_minor": 5
}

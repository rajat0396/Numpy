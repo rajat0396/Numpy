{
 "cells": [
  {
   "cell_type": "code",
   "execution_count": 2,
   "id": "6053ccf6-5685-4f08-9668-3e85c49ed9b4",
   "metadata": {},
   "outputs": [
    {
     "name": "stdout",
     "output_type": "stream",
     "text": [
      "[1 2 3 4]\n",
      "\n",
      "[[1 2]\n",
      " [1 2]]\n",
      "\n",
      "(4,)\n",
      "(2, 2)\n"
     ]
    }
   ],
   "source": [
    "import numpy as np\n",
    "var = np.array([1,2,3,4])\n",
    "var1 = np.array([[1,2],[1,2]])\n",
    "\n",
    "print(var)\n",
    "print()\n",
    "\n",
    "print(var1)\n",
    "print()\n",
    "\n",
    "print(var.shape)         #will tell you the shape i.e 1 D array with 4 element\n",
    "print(var1.shape)        # its 2d array ( 2 rows, 2 elemensts)"
   ]
  },
  {
   "cell_type": "markdown",
   "id": "8a86f853-f479-4eff-a9e7-be7007b21709",
   "metadata": {},
   "source": [
    "# Multidimesnsional array"
   ]
  },
  {
   "cell_type": "code",
   "execution_count": 3,
   "id": "1734eaf9-64d9-4721-b512-c6609e5eb154",
   "metadata": {},
   "outputs": [
    {
     "name": "stdout",
     "output_type": "stream",
     "text": [
      "[[[[1 2 3 4]]]]\n",
      "(1, 1, 1, 4)\n"
     ]
    }
   ],
   "source": [
    "import numpy as np\n",
    "var = np.array([1,2,3,4],ndmin = 4)        # ndmin is 4 dimension array\n",
    "print(var)\n",
    "print(var.shape)                           # here output is  (1,1,1,4)"
   ]
  },
  {
   "cell_type": "code",
   "execution_count": 13,
   "id": "3a464c06-a8fd-4b21-bd1a-5f9a975c6c9a",
   "metadata": {},
   "outputs": [
    {
     "name": "stdout",
     "output_type": "stream",
     "text": [
      "[ 1  2  3  4  5  6  7  8  9  0  1  2  3  4  5  6  7  8  9 10]\n",
      "\n",
      "[[ 1  2  3  4]\n",
      " [ 5  6  7  8]\n",
      " [ 9  0  1  2]\n",
      " [ 3  4  5  6]\n",
      " [ 7  8  9 10]]\n"
     ]
    }
   ],
   "source": [
    "import numpy as np\n",
    "var = np.array([1,2,3,4,5,6,7,8,9,0,1,2,3,4,5,6,7,8,9,10])       # ndmin is 4 dimension array\n",
    "print(var)\n",
    "print()\n",
    "x=var.reshape(5,4)  \n",
    "print(x)"
   ]
  },
  {
   "cell_type": "code",
   "execution_count": 15,
   "id": "e0595109-97b8-4b57-bf09-559e49d71cc6",
   "metadata": {},
   "outputs": [
    {
     "name": "stdout",
     "output_type": "stream",
     "text": [
      "[ 1  2  3  4  5  6  7  8  9  0  1  2  3  4  5  6  7  8  9 10]\n",
      "1\n",
      "\n",
      "[[ 1  2  3  4]\n",
      " [ 5  6  7  8]\n",
      " [ 9  0  1  2]\n",
      " [ 3  4  5  6]\n",
      " [ 7  8  9 10]]\n",
      "\n",
      "2\n"
     ]
    }
   ],
   "source": [
    "import numpy as np\n",
    "var = np.array([1,2,3,4,5,6,7,8,9,0,1,2,3,4,5,6,7,8,9,10])       \n",
    "print(var)                                                       # 1 D array\n",
    "print(var.ndim)\n",
    "print()                                                         # empty line print\n",
    "x=var.reshape(5,4)  \n",
    "print(x)\n",
    "print()\n",
    "print(x.ndim)                                                   # 2 d array"
   ]
  },
  {
   "cell_type": "code",
   "execution_count": 23,
   "id": "8d8f4315-5063-42d7-8b44-0f65dad65462",
   "metadata": {},
   "outputs": [
    {
     "name": "stdout",
     "output_type": "stream",
     "text": [
      "[ 1  2  3  4  5  6  7  8  9 10 11 12]\n",
      "1\n",
      "\n",
      "[[[ 1]\n",
      "  [ 2]\n",
      "  [ 3]]\n",
      "\n",
      " [[ 4]\n",
      "  [ 5]\n",
      "  [ 6]]\n",
      "\n",
      " [[ 7]\n",
      "  [ 8]\n",
      "  [ 9]]\n",
      "\n",
      " [[10]\n",
      "  [11]\n",
      "  [12]]]\n",
      "\n",
      "3\n"
     ]
    }
   ],
   "source": [
    "import numpy as np\n",
    "var = np.array([1,2,3,4,5,6,7,8,9,10,11,12])       \n",
    "print(var)                                                       # 1 D array\n",
    "print(var.ndim)\n",
    "print()                                                         # empty line print\n",
    "x=var.reshape(4,3,1)  \n",
    "print(x)\n",
    "print()\n",
    "print(x.ndim)                                                   # 2 d array"
   ]
  },
  {
   "cell_type": "code",
   "execution_count": null,
   "id": "78a78335-f52a-4282-bd5b-715e0bfe611e",
   "metadata": {},
   "outputs": [],
   "source": []
  }
 ],
 "metadata": {
  "kernelspec": {
   "display_name": "Python 3 (ipykernel)",
   "language": "python",
   "name": "python3"
  },
  "language_info": {
   "codemirror_mode": {
    "name": "ipython",
    "version": 3
   },
   "file_extension": ".py",
   "mimetype": "text/x-python",
   "name": "python",
   "nbconvert_exporter": "python",
   "pygments_lexer": "ipython3",
   "version": "3.12.1"
  }
 },
 "nbformat": 4,
 "nbformat_minor": 5
}
